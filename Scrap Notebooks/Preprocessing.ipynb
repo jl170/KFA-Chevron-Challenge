{
 "cells": [
  {
   "cell_type": "code",
   "execution_count": 19,
   "id": "992d6c7e",
   "metadata": {},
   "outputs": [],
   "source": [
    "import pandas"
   ]
  },
  {
   "cell_type": "code",
   "execution_count": 20,
   "id": "2bdc0d20",
   "metadata": {},
   "outputs": [],
   "source": [
    "import numpy\n",
    "import sklearn"
   ]
  },
  {
   "cell_type": "code",
   "execution_count": 21,
   "id": "1aa669d4",
   "metadata": {},
   "outputs": [],
   "source": [
    "import sklearn"
   ]
  },
  {
   "cell_type": "code",
   "execution_count": 25,
   "id": "7a771045",
   "metadata": {},
   "outputs": [],
   "source": [
    "read_file = pandas.read_excel (\"MSN Codes.xlsx\")\n",
    "read_file.to_csv (\"MSN Codes.csv\", index = None, header=True)\n",
    "read_file = pandas.read_excel (\"Investment_Data_Train.xlsx\")\n",
    "read_file.to_csv (\"Investment_Data_Train.csv\", index = None, header=True)\n",
    "\n",
    "msn_code = pandas.read_csv('MSN Codes.csv')\n",
    "msn_code.head()\n",
    "\n",
    "investment_data = pandas.read_csv(\"Investment_Data_Train.csv\")\n",
    "# investment_data.head()\n"
   ]
  }
 ],
 "metadata": {
  "kernelspec": {
   "display_name": "base",
   "language": "python",
   "name": "python3"
  },
  "language_info": {
   "codemirror_mode": {
    "name": "ipython",
    "version": 3
   },
   "file_extension": ".py",
   "mimetype": "text/x-python",
   "name": "python",
   "nbconvert_exporter": "python",
   "pygments_lexer": "ipython3",
   "version": "3.9.13"
  },
  "vscode": {
   "interpreter": {
    "hash": "f634c23ce7422fd6b11ecdff7f8edbe5fc66b9537d5808e3f7994f6ea62867eb"
   }
  }
 },
 "nbformat": 4,
 "nbformat_minor": 5
}
