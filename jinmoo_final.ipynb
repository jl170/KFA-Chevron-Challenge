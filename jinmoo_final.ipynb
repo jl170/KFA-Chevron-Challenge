{
 "cells": [
  {
   "cell_type": "code",
   "execution_count": 29,
   "metadata": {},
   "outputs": [],
   "source": [
    "import numpy as np\n",
    "import plotly.graph_objects as go\n",
    "from ipywidgets import interact, widgets\n",
    "import pandas as pd"
   ]
  },
  {
   "cell_type": "code",
   "execution_count": 30,
   "metadata": {},
   "outputs": [],
   "source": [
    "def update_layout_of_graph(fig: go.Figure,title: str = 'Plot')->go.Figure:\n",
    "    fig.update_layout(\n",
    "        width=800,\n",
    "        height=600,\n",
    "        autosize=False,\n",
    "        plot_bgcolor='rgba(0,0,0,0)',\n",
    "        title=title,\n",
    "        \n",
    "    )\n",
    "    fig.update_layout(plot_bgcolor='rgba(0,0,0,0)',\n",
    "                      xaxis_title = 'input values',\n",
    "                      yaxis_title = 'output values',\n",
    "                      legend=dict(yanchor=\"top\",\n",
    "                                  y=0.9,\n",
    "                                  xanchor=\"right\",\n",
    "                                  x=0.95),\n",
    "                      title={\n",
    "                          'x': 0.5,\n",
    "                          'xanchor': 'center'\n",
    "                      })\n",
    "    fig.update_xaxes(showline=True, linewidth=1, linecolor='black')\n",
    "    fig.update_yaxes(showline=True, linewidth=1, linecolor='black')\n",
    "    return fig"
   ]
  },
  {
   "cell_type": "code",
   "execution_count": 31,
   "metadata": {},
   "outputs": [],
   "source": [
    " def line_scatter(\n",
    "    visible: bool = True,\n",
    "    x_lines: np.array = np.array([]),\n",
    "    y_lines: np.array = np.array([]),\n",
    "    name_line: str = 'Predicted function',\n",
    "    showlegend: bool = True,\n",
    ") -> go.Scatter:\n",
    "    # Adding the lines\n",
    "    return go.Scatter(\n",
    "        visible=visible,\n",
    "        line=dict(color=\"blue\", width=2),\n",
    "        x=x_lines,\n",
    "        y=y_lines,\n",
    "        name=name_line,\n",
    "        showlegend= showlegend\n",
    "    )"
   ]
  },
  {
   "cell_type": "code",
   "execution_count": 32,
   "metadata": {},
   "outputs": [],
   "source": [
    "def dot_scatter(\n",
    "    visible: bool = True,\n",
    "    x_dots: np.array = np.array([]),\n",
    "    y_dots: np.array = np.array([]),\n",
    "    name_dots: str = 'Observed points',\n",
    "    showlegend: bool = True\n",
    ") -> go.Scatter:\n",
    "    # Adding the dots\n",
    "    return go.Scatter(\n",
    "        x=x_dots,\n",
    "        visible=visible,\n",
    "        y=y_dots,\n",
    "        mode=\"markers\",\n",
    "        name=name_dots,\n",
    "        marker=dict(color='red', size=8),\n",
    "        showlegend=showlegend\n",
    "    )"
   ]
  },
  {
   "cell_type": "code",
   "execution_count": 33,
   "metadata": {},
   "outputs": [],
   "source": [
    "def uncertainty_area_scatter(\n",
    "        visible: bool = True,\n",
    "        x_lines: np.array = np.array([]),\n",
    "        y_upper: np.array = np.array([]),\n",
    "        y_lower: np.array = np.array([]),\n",
    "        name: str = \"mean plus/minus standard deviation\",\n",
    ") -> go.Scatter:\n",
    "\n",
    "    return go.Scatter(\n",
    "        visible=visible,\n",
    "        x=np.concatenate((x_lines, x_lines[::-1])),  # x, then x reversed\n",
    "        # upper, then lower reversed\n",
    "        y=np.concatenate((y_upper, y_lower[::-1])),\n",
    "        fill='toself',\n",
    "        fillcolor='rgba(189,195,199,0.5)',\n",
    "        line=dict(color='rgba(200,200,200,0)'),\n",
    "        hoverinfo=\"skip\",\n",
    "        showlegend=True,\n",
    "        name= name,\n",
    "    )"
   ]
  },
  {
   "cell_type": "code",
   "execution_count": 34,
   "metadata": {},
   "outputs": [],
   "source": [
    "def add_slider_GPR(figure: go.Figure, parameters):\n",
    "    figure.data[0].visible = True\n",
    "    figure.data[1].visible = True\n",
    "\n",
    "    # Create and add slider\n",
    "    steps = []\n",
    "    for i in range(int((len(figure.data) - 1) / 2)):\n",
    "        step = dict(\n",
    "            method=\"update\",\n",
    "            label=f'{parameters[i]: .2f}',\n",
    "            args=[{\n",
    "                \"visible\": [False] * (len(figure.data) - 1) + [True]\n",
    "            }],\n",
    "        )\n",
    "        step[\"args\"][0][\"visible\"][2 *\n",
    "                                   i] = True  # Toggle i'th trace to \"visible\"\n",
    "        step[\"args\"][0][\"visible\"][2 * i + 1] = True\n",
    "        steps.append(step)\n",
    "\n",
    "    sliders = [dict(\n",
    "        active=0,\n",
    "        pad={\"t\": 50},\n",
    "        steps=steps,\n",
    "    )]\n",
    "    figure.update_layout(sliders=sliders, )\n",
    "    return figure"
   ]
  },
  {
   "cell_type": "code",
   "execution_count": 35,
   "metadata": {},
   "outputs": [],
   "source": [
    "def add_slider_to_function(figure:go.Figure, parameters):\n",
    "    figure.data[0].visible = True\n",
    "\n",
    "    # Create and add slider\n",
    "    steps = []\n",
    "    for i in range(len(figure.data)):\n",
    "        step = dict(\n",
    "            method=\"update\",\n",
    "            label=f'{parameters[i]: .2f}',\n",
    "            args=[{\n",
    "                \"visible\": [False] *len(figure.data) \n",
    "            }],\n",
    "        )\n",
    "        step[\"args\"][0][\"visible\"][i] = True  # Toggle i'th trace to \"visible\"\n",
    "        steps.append(step)\n",
    "\n",
    "    sliders = [dict(\n",
    "        active=0,\n",
    "        pad={\"t\": 50},\n",
    "        steps=steps,\n",
    "    )]\n",
    "    figure.update_layout(sliders=sliders, )\n",
    "    return figure"
   ]
  },
  {
   "cell_type": "code",
   "execution_count": 36,
   "metadata": {},
   "outputs": [],
   "source": [
    "class SquaredExponentialKernel:\n",
    "    def __init__(self, sigma_f: float = 1, length: float = 1):\n",
    "        self.sigma_f = sigma_f\n",
    "        self.length = length\n",
    "\n",
    "    def __call__(self, argument_1: np.array, argument_2: np.array) -> float:\n",
    "        return float(self.sigma_f *\n",
    "                     np.exp(-(np.linalg.norm(argument_1 - argument_2)**2) /\n",
    "                            (2 * self.length**2)))\n",
    "\n"
   ]
  },
  {
   "cell_type": "code",
   "execution_count": 37,
   "metadata": {},
   "outputs": [
    {
     "data": {
      "application/vnd.jupyter.widget-view+json": {
       "model_id": "48714c7cd9cf4e5194605b581b69e69e",
       "version_major": 2,
       "version_minor": 0
      },
      "text/plain": [
       "interactive(children=(FloatSlider(value=1.0, description='length', max=3.0, min=0.1), FloatSlider(value=0.0, d…"
      ]
     },
     "metadata": {},
     "output_type": "display_data"
    },
    {
     "data": {
      "application/vnd.jupyter.widget-view+json": {
       "model_id": "409b2ca6456a4c2baee26167acae5fb6",
       "version_major": 2,
       "version_minor": 0
      },
      "text/plain": [
       "FigureWidget({\n",
       "    'data': [{'line': {'color': 'blue', 'width': 2},\n",
       "              'name': 'Predicted function',\n",
       "              'showlegend': True,\n",
       "              'type': 'scatter',\n",
       "              'uid': '0bc64abf-332e-468e-89d9-6f15e65d1479',\n",
       "              'visible': True,\n",
       "              'x': array([-1.00000000e+01, -9.90000000e+00, -9.80000000e+00, -9.70000000e+00,\n",
       "                          -9.60000000e+00, -9.50000000e+00, -9.40000000e+00, -9.30000000e+00,\n",
       "                          -9.20000000e+00, -9.10000000e+00, -9.00000000e+00, -8.90000000e+00,\n",
       "                          -8.80000000e+00, -8.70000000e+00, -8.60000000e+00, -8.50000000e+00,\n",
       "                          -8.40000000e+00, -8.30000000e+00, -8.20000000e+00, -8.10000000e+00,\n",
       "                          -8.00000000e+00, -7.90000000e+00, -7.80000000e+00, -7.70000000e+00,\n",
       "                          -7.60000000e+00, -7.50000000e+00, -7.40000000e+00, -7.30000000e+00,\n",
       "                          -7.20000000e+00, -7.10000000e+00, -7.00000000e+00, -6.90000000e+00,\n",
       "                          -6.80000000e+00, -6.70000000e+00, -6.60000000e+00, -6.50000000e+00,\n",
       "                          -6.40000000e+00, -6.30000000e+00, -6.20000000e+00, -6.10000000e+00,\n",
       "                          -6.00000000e+00, -5.90000000e+00, -5.80000000e+00, -5.70000000e+00,\n",
       "                          -5.60000000e+00, -5.50000000e+00, -5.40000000e+00, -5.30000000e+00,\n",
       "                          -5.20000000e+00, -5.10000000e+00, -5.00000000e+00, -4.90000000e+00,\n",
       "                          -4.80000000e+00, -4.70000000e+00, -4.60000000e+00, -4.50000000e+00,\n",
       "                          -4.40000000e+00, -4.30000000e+00, -4.20000000e+00, -4.10000000e+00,\n",
       "                          -4.00000000e+00, -3.90000000e+00, -3.80000000e+00, -3.70000000e+00,\n",
       "                          -3.60000000e+00, -3.50000000e+00, -3.40000000e+00, -3.30000000e+00,\n",
       "                          -3.20000000e+00, -3.10000000e+00, -3.00000000e+00, -2.90000000e+00,\n",
       "                          -2.80000000e+00, -2.70000000e+00, -2.60000000e+00, -2.50000000e+00,\n",
       "                          -2.40000000e+00, -2.30000000e+00, -2.20000000e+00, -2.10000000e+00,\n",
       "                          -2.00000000e+00, -1.90000000e+00, -1.80000000e+00, -1.70000000e+00,\n",
       "                          -1.60000000e+00, -1.50000000e+00, -1.40000000e+00, -1.30000000e+00,\n",
       "                          -1.20000000e+00, -1.10000000e+00, -1.00000000e+00, -9.00000000e-01,\n",
       "                          -8.00000000e-01, -7.00000000e-01, -6.00000000e-01, -5.00000000e-01,\n",
       "                          -4.00000000e-01, -3.00000000e-01, -2.00000000e-01, -1.00000000e-01,\n",
       "                          -3.55271368e-14,  1.00000000e-01,  2.00000000e-01,  3.00000000e-01,\n",
       "                           4.00000000e-01,  5.00000000e-01,  6.00000000e-01,  7.00000000e-01,\n",
       "                           8.00000000e-01,  9.00000000e-01,  1.00000000e+00,  1.10000000e+00,\n",
       "                           1.20000000e+00,  1.30000000e+00,  1.40000000e+00,  1.50000000e+00,\n",
       "                           1.60000000e+00,  1.70000000e+00,  1.80000000e+00,  1.90000000e+00,\n",
       "                           2.00000000e+00,  2.10000000e+00,  2.20000000e+00,  2.30000000e+00,\n",
       "                           2.40000000e+00,  2.50000000e+00,  2.60000000e+00,  2.70000000e+00,\n",
       "                           2.80000000e+00,  2.90000000e+00,  3.00000000e+00,  3.10000000e+00,\n",
       "                           3.20000000e+00,  3.30000000e+00,  3.40000000e+00,  3.50000000e+00,\n",
       "                           3.60000000e+00,  3.70000000e+00,  3.80000000e+00,  3.90000000e+00,\n",
       "                           4.00000000e+00,  4.10000000e+00,  4.20000000e+00,  4.30000000e+00,\n",
       "                           4.40000000e+00,  4.50000000e+00,  4.60000000e+00,  4.70000000e+00,\n",
       "                           4.80000000e+00,  4.90000000e+00,  5.00000000e+00,  5.10000000e+00,\n",
       "                           5.20000000e+00,  5.30000000e+00,  5.40000000e+00,  5.50000000e+00,\n",
       "                           5.60000000e+00,  5.70000000e+00,  5.80000000e+00,  5.90000000e+00,\n",
       "                           6.00000000e+00,  6.10000000e+00,  6.20000000e+00,  6.30000000e+00,\n",
       "                           6.40000000e+00,  6.50000000e+00,  6.60000000e+00,  6.70000000e+00,\n",
       "                           6.80000000e+00,  6.90000000e+00,  7.00000000e+00,  7.10000000e+00,\n",
       "                           7.20000000e+00,  7.30000000e+00,  7.40000000e+00,  7.50000000e+00,\n",
       "                           7.60000000e+00,  7.70000000e+00,  7.80000000e+00,  7.90000000e+00,\n",
       "                           8.00000000e+00,  8.10000000e+00,  8.20000000e+00,  8.30000000e+00,\n",
       "                           8.40000000e+00,  8.50000000e+00,  8.60000000e+00,  8.70000000e+00,\n",
       "                           8.80000000e+00,  8.90000000e+00,  9.00000000e+00,  9.10000000e+00,\n",
       "                           9.20000000e+00,  9.30000000e+00,  9.40000000e+00,  9.50000000e+00,\n",
       "                           9.60000000e+00,  9.70000000e+00,  9.80000000e+00,  9.90000000e+00]),\n",
       "              'y': array([1.92874985e-22, 5.21673666e-22, 1.39694394e-21, 3.70353198e-21,\n",
       "                          9.72098502e-21, 2.52616378e-20, 6.49934797e-20, 1.65552266e-19,\n",
       "                          4.17501006e-19, 1.04240618e-18, 2.57675711e-18, 6.30618989e-18,\n",
       "                          1.52797997e-17, 3.66543340e-17, 8.70542662e-17, 2.04697171e-16,\n",
       "                          4.76530474e-16, 1.09831413e-15, 2.50622189e-15, 5.66199552e-15,\n",
       "                          1.26641655e-14, 2.80440474e-14, 6.14839641e-14, 1.33456608e-13,\n",
       "                          2.86797501e-13, 6.10193668e-13, 1.28533723e-12, 2.68054764e-12,\n",
       "                          5.53461007e-12, 1.13137762e-11, 2.28973485e-11, 4.58796249e-11,\n",
       "                          9.10147076e-11, 1.78755887e-10, 3.47589128e-10, 6.69158609e-10,\n",
       "                          1.27540763e-09, 2.40672244e-09, 4.49634946e-09, 8.31670246e-09,\n",
       "                          1.52299797e-08, 2.76124246e-08, 4.95640532e-08, 8.80817920e-08,\n",
       "                          1.54975314e-07, 2.69957850e-07, 4.65571572e-07, 7.94939362e-07,\n",
       "                          1.34381228e-06, 2.24905597e-06, 3.72665317e-06, 6.11356797e-06,\n",
       "                          9.92950431e-06, 1.59667839e-05, 2.54193465e-05, 4.00652974e-05,\n",
       "                          6.25215038e-05, 9.65934137e-05, 1.47748360e-04, 2.23745794e-04,\n",
       "                          3.35462628e-04, 4.97955422e-04, 7.31802419e-04, 1.06476624e-03,\n",
       "                          1.53381068e-03, 2.18749112e-03, 3.08871541e-03, 4.31784001e-03,\n",
       "                          5.97602290e-03, 8.18870101e-03, 1.11089965e-02, 1.49207861e-02,\n",
       "                          1.98410947e-02, 2.61214099e-02, 3.40474547e-02, 4.39369336e-02,\n",
       "                          5.61347628e-02, 7.10053537e-02, 8.89216175e-02, 1.10250525e-01,\n",
       "                          1.35335283e-01, 1.64474457e-01, 1.97898699e-01, 2.35746077e-01,\n",
       "                          2.78037300e-01, 3.24652467e-01, 3.75311099e-01, 4.29557358e-01,\n",
       "                          4.86752256e-01, 5.46074427e-01, 6.06530660e-01, 6.66976811e-01,\n",
       "                          7.26149037e-01, 7.82704538e-01, 8.35270211e-01, 8.82496903e-01,\n",
       "                          9.23116346e-01, 9.55997482e-01, 9.80198673e-01, 9.95012479e-01,\n",
       "                          1.00000000e+00, 9.95012479e-01, 9.80198673e-01, 9.55997482e-01,\n",
       "                          9.23116346e-01, 8.82496903e-01, 8.35270211e-01, 7.82704538e-01,\n",
       "                          7.26149037e-01, 6.66976811e-01, 6.06530660e-01, 5.46074427e-01,\n",
       "                          4.86752256e-01, 4.29557358e-01, 3.75311099e-01, 3.24652467e-01,\n",
       "                          2.78037300e-01, 2.35746077e-01, 1.97898699e-01, 1.64474457e-01,\n",
       "                          1.35335283e-01, 1.10250525e-01, 8.89216175e-02, 7.10053537e-02,\n",
       "                          5.61347628e-02, 4.39369336e-02, 3.40474547e-02, 2.61214099e-02,\n",
       "                          1.98410947e-02, 1.49207861e-02, 1.11089965e-02, 8.18870101e-03,\n",
       "                          5.97602290e-03, 4.31784001e-03, 3.08871541e-03, 2.18749112e-03,\n",
       "                          1.53381068e-03, 1.06476624e-03, 7.31802419e-04, 4.97955422e-04,\n",
       "                          3.35462628e-04, 2.23745794e-04, 1.47748360e-04, 9.65934137e-05,\n",
       "                          6.25215038e-05, 4.00652974e-05, 2.54193465e-05, 1.59667839e-05,\n",
       "                          9.92950431e-06, 6.11356797e-06, 3.72665317e-06, 2.24905597e-06,\n",
       "                          1.34381228e-06, 7.94939362e-07, 4.65571572e-07, 2.69957850e-07,\n",
       "                          1.54975314e-07, 8.80817920e-08, 4.95640532e-08, 2.76124246e-08,\n",
       "                          1.52299797e-08, 8.31670246e-09, 4.49634946e-09, 2.40672244e-09,\n",
       "                          1.27540763e-09, 6.69158609e-10, 3.47589128e-10, 1.78755887e-10,\n",
       "                          9.10147076e-11, 4.58796249e-11, 2.28973485e-11, 1.13137762e-11,\n",
       "                          5.53461007e-12, 2.68054764e-12, 1.28533723e-12, 6.10193668e-13,\n",
       "                          2.86797501e-13, 1.33456608e-13, 6.14839641e-14, 2.80440474e-14,\n",
       "                          1.26641655e-14, 5.66199552e-15, 2.50622189e-15, 1.09831413e-15,\n",
       "                          4.76530474e-16, 2.04697171e-16, 8.70542662e-17, 3.66543340e-17,\n",
       "                          1.52797997e-17, 6.30618989e-18, 2.57675711e-18, 1.04240618e-18,\n",
       "                          4.17501006e-19, 1.65552266e-19, 6.49934797e-20, 2.52616378e-20,\n",
       "                          9.72098502e-21, 3.70353198e-21, 1.39694394e-21, 5.21673666e-22])}],\n",
       "    'layout': {'autosize': False,\n",
       "               'height': 600,\n",
       "               'legend': {'x': 0.95, 'xanchor': 'right', 'y': 0.9, 'yanchor': 'top'},\n",
       "               'plot_bgcolor': 'rgba(0,0,0,0)',\n",
       "               'template': '...',\n",
       "               'title': {'text': 'Squared exponential kernel', 'x': 0.5, 'xanchor': 'center'},\n",
       "               'width': 800,\n",
       "               'xaxis': {'linecolor': 'black', 'linewidth': 1, 'showline': True, 'title': {'text': 'input values'}},\n",
       "               'yaxis': {'linecolor': 'black', 'linewidth': 1, 'showline': True, 'title': {'text': 'output values'}}}\n",
       "})"
      ]
     },
     "execution_count": 37,
     "metadata": {},
     "output_type": "execute_result"
    }
   ],
   "source": [
    "x_lines = np.arange(-10, 10, 0.1)\n",
    "kernel = SquaredExponentialKernel(length=1)\n",
    "\n",
    "fig0 = go.FigureWidget(data=[\n",
    "    line_scatter(\n",
    "        x_lines=x_lines,\n",
    "        y_lines=np.array([kernel(x, 0) for x in x_lines]),\n",
    "    )\n",
    "])\n",
    "\n",
    "fig0 = update_layout_of_graph(fig0, title='Squared exponential kernel')\n",
    "\n",
    "\n",
    "@interact(length=(0.1, 3, 0.1), argument_2=(-10, 10, 0.1))\n",
    "def update(length=1, argument_2=0):\n",
    "    with fig0.batch_update():\n",
    "        kernel = SquaredExponentialKernel(length=length)\n",
    "        fig0.data[0].y = np.array([kernel(x, argument_2) for x in x_lines])\n",
    "\n",
    "\n",
    "fig0"
   ]
  },
  {
   "cell_type": "code",
   "execution_count": 38,
   "metadata": {},
   "outputs": [],
   "source": [
    " # Helper function to calculate the respective covariance matrices\n",
    "def cov_matrix(x1, x2, cov_function) -> np.array:\n",
    "    return np.array([[cov_function(a, b) for a in x1] for b in x2])"
   ]
  },
  {
   "cell_type": "code",
   "execution_count": 39,
   "metadata": {},
   "outputs": [],
   "source": [
    "class GPR:\n",
    "    def __init__(self,\n",
    "                 data_x: np.array,\n",
    "                 data_y: np.array,\n",
    "                 covariance_function=SquaredExponentialKernel(),\n",
    "                 white_noise_sigma: float = 0):\n",
    "        self.noise = white_noise_sigma\n",
    "        self.data_x = data_x\n",
    "        self.data_y = data_y\n",
    "        self.covariance_function = covariance_function\n",
    "\n",
    "        # Store the inverse of covariance matrix of input (+ machine epsilon on diagonal) since it is needed for every prediction\n",
    "        self._inverse_of_covariance_matrix_of_input = np.linalg.inv(\n",
    "            cov_matrix(data_x, data_x, covariance_function) +\n",
    "            (3e-7 + self.noise) * np.identity(len(self.data_x)))\n",
    "\n",
    "        self._memory = None\n",
    "\n",
    "    # function to predict output at new input values. Store the mean and covariance matrix in memory.\n",
    "\n",
    "    def predict(self, at_values: np.array) -> np.array:\n",
    "        k_lower_left = cov_matrix(self.data_x, at_values,\n",
    "                                  self.covariance_function)\n",
    "        k_lower_right = cov_matrix(at_values, at_values,\n",
    "                                   self.covariance_function)\n",
    "\n",
    "        # Mean.\n",
    "        mean_at_values = np.dot(\n",
    "            k_lower_left,\n",
    "            np.dot(self.data_y,\n",
    "                   self._inverse_of_covariance_matrix_of_input.T).T).flatten()\n",
    "\n",
    "        # Covariance.\n",
    "        cov_at_values = k_lower_right - \\\n",
    "            np.dot(k_lower_left, np.dot(\n",
    "                self._inverse_of_covariance_matrix_of_input, k_lower_left.T))\n",
    "\n",
    "        # Adding value larger than machine epsilon to ensure positive semi definite\n",
    "        cov_at_values = cov_at_values + 3e-7 * np.ones(\n",
    "            np.shape(cov_at_values)[0])\n",
    "\n",
    "        var_at_values = np.diag(cov_at_values)\n",
    "\n",
    "        self._memory = {\n",
    "            'mean': mean_at_values,\n",
    "            'covariance_matrix': cov_at_values,\n",
    "            'variance': var_at_values\n",
    "        }\n",
    "        return mean_at_values"
   ]
  },
  {
   "cell_type": "code",
   "execution_count": 62,
   "metadata": {},
   "outputs": [
    {
     "name": "stdout",
     "output_type": "stream",
     "text": [
      "[3345612.0, 1864412.0, 13453887.0, 1724853.0, 30077512.0, 1658730.0, 1340702.0, 1452666.0, 3527420.0, 6155856.0, 1033143.0, 5552396.0, 1895904.0, 2533998.0, 2525723.0, 2548830.0, 315635700.0, 2312261.0, 4240538.0, 1890491.0, 2818563.0, 3049845.0, 3292766.0, 7036095.0, 3710526.0, 896759.0, 202376181.0, 420940.0, 3396859.0, 1371086.0, 1130951.0, 1126396.0, 790588.0, 5040800.0, 2513363.0, 1677872.0, 6478283.0, 4218295.0, 671306.0, 3065630.0, 3577721.0, 3275928.0, 2671308.0, 1243588.0, 2446464.0, 47317173.0, 1978193.0, 3755629.0, 491426.0, 249960.0, 2247734.0, 1206793.0, 4637664.0, 2053339.0, 59755992.0, 1800615.0, 962061.0, 502817.0, 4068360.0, 20155611.0, 429104.0, 4220545.0, 1317624.0, 1325335.0, 11391681.0, 1440764.0, 2257870.0, 1499474.0, 841616.0, 1349074.0, 795948.0, 1293489.0, 16796366.0, 10631411.0, 96309030.0, 2257495.0, 190472938.0, 502584.0, 4011050.0, 3111505.0, 597439.0, 2015514.0, 54082.0, 2403723.0, 775584.0, 1341097.0, 104123811.0, 2394977.0, 489512.0, 22430291.0, 76031784.0, 1102457.0, 83607077.0, 612804.0, 853133.0, 873689.0, 2515938.0, 7777098.0, 614068.0, 1359346.0, 13509662.0, 2414699.0, 2069460.0, 1714281.0, 30392556.0, 1385451.0, 788599.0, 1636426.0, 1239122.0, 2884817.0, 1467132.0, 6233820.0, 988061.0, 1262924.0, 4052088.0, 1454281.0, 1948714.0, 1216601.0, 5852232.0, 6343700.0, 2223059.0, 1287282.0, 2726558.0, 4957942.0, 2686540.0, 1091494.0, 235434075.0, 477713.0, 3743400.0, 1307930.0, 881961.0, 5893114.0, 311016629.0, 789556.0, 10274821.0, 2449186.0, 137275588.0, 2661655.0, 547069.0, 68063288.0, 3225820.0, 889496.0, 98254981.0, 15437033.0, 5764689.0, 4591717.0, 6910234.0, 2622475.0, 673413.0, 413987.0, 18236626.0, 1844186.0, 79970512.0, 539053.0, 28208367.0, 29876375.0, 1486681.0, 824222.0, 49550089.0, 7882488.0, 5818783.0, 8883799.0, 1198524.0, 5112413.0, 5700232.0, 1041662.0, 2944583.0, 764829.0, 3360964.0, 2306029.0, 2491389.0, 936266.0, 55322766.0, 3637928.0, 3767073.0, 2449554.0, 141776088.0, 520857.0, 4330170.0, 636384.0, 852979.0, 755535.0, 535889.0, 13144827.0, 6168918.0, 1495639.0, 3286698.0, 10494432.0, 661136.0, 64580916.0, 3826069.0, 4038180.0, 46570295.0, 668749.0, 2735678.0, 493740.0, 3061489.0, 2067441.0, 946699.0, 573639.0, 13734021.0, 840218.0, 60034678.0, 95135122.0, 158244985.0, 10796826.0, 1306178.0, 1485254.0, 52936642.0, 2374660.0, 329849.0, 3041432.0, 910270.0, 11321378.0, 1593785.0, 992149.0, 1092217.0, 250695185.0, 1860604.0, 1428319.0, 1093090.0, 2360732.0, 29572563.0, 3478408.0, 2609443.0, 618074.0, 126884709.0, 759349.0, 2293019.0, 739179.0, 314035.0, 1493382.0, 201782.0, 30602444.0, 2756315.0, 645165.0, 13382214.0, 2943270.0, 8838243.0, 53928982.0, 538508.0, 6964195.0, 9605822.0, 448561.0, 4195235.0, 1121855.0, 18389113.0, 2915140.0, 790383.0, 570570.0]\n"
     ]
    }
   ],
   "source": [
    "np.random.seed(1)\n",
    "\n",
    "#Importing the CSV File\n",
    "df = pd.read_csv(\"/Users/yoojinmoo/Documents/KFA-Chevron-Challenge/Investment_Data_Train.csv\")\n",
    "\n",
    "#Removing Rows with Null Values\n",
    "df['TotalNumberofInvestments'].replace('', np.nan, inplace=True)\n",
    "df.dropna(subset=['TotalNumberofInvestments'], inplace=True)\n",
    "\n",
    "#Renaming Columns for Convinience\n",
    "df.rename(columns = {'CO2 Emissions (Mmt)':'MMT'}, inplace = True)\n",
    "\n",
    "#Removing Unnecessary Columns\n",
    "df = df[['MSN', 'StateCode', 'Year', 'Amount', 'MMT', 'TotalNumberofInvestments', 'TotalAmountofAssistance']]\n",
    "\n",
    "df\n",
    "\n",
    "y = np.asarray(df['TotalAmountofAssistance'])\n",
    "res = []\n",
    "[res.append(x) for x in y if x not in res]\n",
    "\n",
    "print(res)\n"
   ]
  },
  {
   "cell_type": "code",
   "execution_count": 63,
   "metadata": {},
   "outputs": [
    {
     "data": {
      "text/html": [
       "<div>\n",
       "<style scoped>\n",
       "    .dataframe tbody tr th:only-of-type {\n",
       "        vertical-align: middle;\n",
       "    }\n",
       "\n",
       "    .dataframe tbody tr th {\n",
       "        vertical-align: top;\n",
       "    }\n",
       "\n",
       "    .dataframe thead th {\n",
       "        text-align: right;\n",
       "    }\n",
       "</style>\n",
       "<table border=\"1\" class=\"dataframe\">\n",
       "  <thead>\n",
       "    <tr style=\"text-align: right;\">\n",
       "      <th>MSN</th>\n",
       "      <th>StateCode</th>\n",
       "      <th>Year</th>\n",
       "      <th>MMT</th>\n",
       "      <th>BDFDB</th>\n",
       "      <th>BDPRP</th>\n",
       "      <th>BFFDB</th>\n",
       "      <th>BFPRP</th>\n",
       "      <th>CLPRB</th>\n",
       "      <th>CLPRK</th>\n",
       "      <th>CLPRP</th>\n",
       "      <th>...</th>\n",
       "      <th>REPRB</th>\n",
       "      <th>SOTCB</th>\n",
       "      <th>TEPRB</th>\n",
       "      <th>TETCB</th>\n",
       "      <th>WDEXB</th>\n",
       "      <th>WDPRB</th>\n",
       "      <th>WDTCB</th>\n",
       "      <th>WSTCB</th>\n",
       "      <th>WWPRB</th>\n",
       "      <th>WYTCB</th>\n",
       "    </tr>\n",
       "  </thead>\n",
       "  <tbody>\n",
       "    <tr>\n",
       "      <th>0</th>\n",
       "      <td>AK</td>\n",
       "      <td>2015</td>\n",
       "      <td>35.027804</td>\n",
       "      <td>21.0</td>\n",
       "      <td>4.0</td>\n",
       "      <td>21.0</td>\n",
       "      <td>4.0</td>\n",
       "      <td>17747.0</td>\n",
       "      <td>15.073</td>\n",
       "      <td>1177.0</td>\n",
       "      <td>...</td>\n",
       "      <td>23807.0</td>\n",
       "      <td>3.0</td>\n",
       "      <td>1429942.0</td>\n",
       "      <td>614242.0</td>\n",
       "      <td>0.0</td>\n",
       "      <td>6865.0</td>\n",
       "      <td>6865.0</td>\n",
       "      <td>622.0</td>\n",
       "      <td>7488.0</td>\n",
       "      <td>1488.0</td>\n",
       "    </tr>\n",
       "    <tr>\n",
       "      <th>1</th>\n",
       "      <td>AK</td>\n",
       "      <td>2016</td>\n",
       "      <td>33.405611</td>\n",
       "      <td>27.0</td>\n",
       "      <td>5.0</td>\n",
       "      <td>27.0</td>\n",
       "      <td>5.0</td>\n",
       "      <td>13942.0</td>\n",
       "      <td>14.957</td>\n",
       "      <td>932.0</td>\n",
       "      <td>...</td>\n",
       "      <td>25155.0</td>\n",
       "      <td>14.0</td>\n",
       "      <td>1435363.0</td>\n",
       "      <td>593662.0</td>\n",
       "      <td>0.0</td>\n",
       "      <td>7636.0</td>\n",
       "      <td>7636.0</td>\n",
       "      <td>412.0</td>\n",
       "      <td>8048.0</td>\n",
       "      <td>1563.0</td>\n",
       "    </tr>\n",
       "    <tr>\n",
       "      <th>2</th>\n",
       "      <td>AK</td>\n",
       "      <td>2017</td>\n",
       "      <td>33.729130</td>\n",
       "      <td>29.0</td>\n",
       "      <td>5.0</td>\n",
       "      <td>29.0</td>\n",
       "      <td>5.0</td>\n",
       "      <td>14365.0</td>\n",
       "      <td>14.978</td>\n",
       "      <td>959.0</td>\n",
       "      <td>...</td>\n",
       "      <td>23620.0</td>\n",
       "      <td>20.0</td>\n",
       "      <td>1454196.0</td>\n",
       "      <td>601492.0</td>\n",
       "      <td>0.0</td>\n",
       "      <td>6501.0</td>\n",
       "      <td>6501.0</td>\n",
       "      <td>436.0</td>\n",
       "      <td>6937.0</td>\n",
       "      <td>1305.0</td>\n",
       "    </tr>\n",
       "    <tr>\n",
       "      <th>3</th>\n",
       "      <td>AK</td>\n",
       "      <td>2018</td>\n",
       "      <td>34.514589</td>\n",
       "      <td>15.0</td>\n",
       "      <td>3.0</td>\n",
       "      <td>15.0</td>\n",
       "      <td>3.0</td>\n",
       "      <td>13752.0</td>\n",
       "      <td>15.253</td>\n",
       "      <td>902.0</td>\n",
       "      <td>...</td>\n",
       "      <td>24158.0</td>\n",
       "      <td>28.0</td>\n",
       "      <td>1410604.0</td>\n",
       "      <td>604644.0</td>\n",
       "      <td>0.0</td>\n",
       "      <td>6910.0</td>\n",
       "      <td>6910.0</td>\n",
       "      <td>456.0</td>\n",
       "      <td>7366.0</td>\n",
       "      <td>1411.0</td>\n",
       "    </tr>\n",
       "    <tr>\n",
       "      <th>4</th>\n",
       "      <td>AK</td>\n",
       "      <td>2019</td>\n",
       "      <td>34.259440</td>\n",
       "      <td>0.0</td>\n",
       "      <td>0.0</td>\n",
       "      <td>0.0</td>\n",
       "      <td>0.0</td>\n",
       "      <td>14867.0</td>\n",
       "      <td>15.252</td>\n",
       "      <td>975.0</td>\n",
       "      <td>...</td>\n",
       "      <td>22754.0</td>\n",
       "      <td>40.0</td>\n",
       "      <td>1370342.0</td>\n",
       "      <td>605689.0</td>\n",
       "      <td>0.0</td>\n",
       "      <td>6418.0</td>\n",
       "      <td>6418.0</td>\n",
       "      <td>386.0</td>\n",
       "      <td>6803.0</td>\n",
       "      <td>1270.0</td>\n",
       "    </tr>\n",
       "    <tr>\n",
       "      <th>...</th>\n",
       "      <td>...</td>\n",
       "      <td>...</td>\n",
       "      <td>...</td>\n",
       "      <td>...</td>\n",
       "      <td>...</td>\n",
       "      <td>...</td>\n",
       "      <td>...</td>\n",
       "      <td>...</td>\n",
       "      <td>...</td>\n",
       "      <td>...</td>\n",
       "      <td>...</td>\n",
       "      <td>...</td>\n",
       "      <td>...</td>\n",
       "      <td>...</td>\n",
       "      <td>...</td>\n",
       "      <td>...</td>\n",
       "      <td>...</td>\n",
       "      <td>...</td>\n",
       "      <td>...</td>\n",
       "      <td>...</td>\n",
       "      <td>...</td>\n",
       "    </tr>\n",
       "    <tr>\n",
       "      <th>245</th>\n",
       "      <td>WY</td>\n",
       "      <td>2015</td>\n",
       "      <td>64.092863</td>\n",
       "      <td>0.0</td>\n",
       "      <td>0.0</td>\n",
       "      <td>1192.0</td>\n",
       "      <td>209.0</td>\n",
       "      <td>6538240.0</td>\n",
       "      <td>17.399</td>\n",
       "      <td>375773.0</td>\n",
       "      <td>...</td>\n",
       "      <td>49887.0</td>\n",
       "      <td>27.0</td>\n",
       "      <td>9080777.0</td>\n",
       "      <td>507121.0</td>\n",
       "      <td>0.0</td>\n",
       "      <td>4904.0</td>\n",
       "      <td>4904.0</td>\n",
       "      <td>2.0</td>\n",
       "      <td>4905.0</td>\n",
       "      <td>35009.0</td>\n",
       "    </tr>\n",
       "    <tr>\n",
       "      <th>246</th>\n",
       "      <td>WY</td>\n",
       "      <td>2016</td>\n",
       "      <td>61.259993</td>\n",
       "      <td>0.0</td>\n",
       "      <td>0.0</td>\n",
       "      <td>0.0</td>\n",
       "      <td>0.0</td>\n",
       "      <td>5169939.0</td>\n",
       "      <td>17.394</td>\n",
       "      <td>297218.0</td>\n",
       "      <td>...</td>\n",
       "      <td>54565.0</td>\n",
       "      <td>33.0</td>\n",
       "      <td>7518440.0</td>\n",
       "      <td>504984.0</td>\n",
       "      <td>0.0</td>\n",
       "      <td>4357.0</td>\n",
       "      <td>4357.0</td>\n",
       "      <td>2.0</td>\n",
       "      <td>4358.0</td>\n",
       "      <td>40522.0</td>\n",
       "    </tr>\n",
       "    <tr>\n",
       "      <th>247</th>\n",
       "      <td>WY</td>\n",
       "      <td>2017</td>\n",
       "      <td>62.796487</td>\n",
       "      <td>0.0</td>\n",
       "      <td>0.0</td>\n",
       "      <td>0.0</td>\n",
       "      <td>0.0</td>\n",
       "      <td>5516757.0</td>\n",
       "      <td>17.433</td>\n",
       "      <td>316454.0</td>\n",
       "      <td>...</td>\n",
       "      <td>55916.0</td>\n",
       "      <td>45.0</td>\n",
       "      <td>7794586.0</td>\n",
       "      <td>534840.0</td>\n",
       "      <td>0.0</td>\n",
       "      <td>5049.0</td>\n",
       "      <td>5049.0</td>\n",
       "      <td>0.0</td>\n",
       "      <td>5049.0</td>\n",
       "      <td>39806.0</td>\n",
       "    </tr>\n",
       "    <tr>\n",
       "      <th>248</th>\n",
       "      <td>WY</td>\n",
       "      <td>2018</td>\n",
       "      <td>63.846081</td>\n",
       "      <td>0.0</td>\n",
       "      <td>0.0</td>\n",
       "      <td>0.0</td>\n",
       "      <td>0.0</td>\n",
       "      <td>5315953.0</td>\n",
       "      <td>17.476</td>\n",
       "      <td>304188.0</td>\n",
       "      <td>...</td>\n",
       "      <td>51483.0</td>\n",
       "      <td>67.0</td>\n",
       "      <td>7711992.0</td>\n",
       "      <td>557604.0</td>\n",
       "      <td>0.0</td>\n",
       "      <td>4934.0</td>\n",
       "      <td>4934.0</td>\n",
       "      <td>0.0</td>\n",
       "      <td>4934.0</td>\n",
       "      <td>36936.0</td>\n",
       "    </tr>\n",
       "    <tr>\n",
       "      <th>249</th>\n",
       "      <td>WY</td>\n",
       "      <td>2019</td>\n",
       "      <td>59.096649</td>\n",
       "      <td>0.0</td>\n",
       "      <td>0.0</td>\n",
       "      <td>0.0</td>\n",
       "      <td>0.0</td>\n",
       "      <td>4828513.0</td>\n",
       "      <td>17.437</td>\n",
       "      <td>276912.0</td>\n",
       "      <td>...</td>\n",
       "      <td>53228.0</td>\n",
       "      <td>1688.0</td>\n",
       "      <td>7148285.0</td>\n",
       "      <td>546671.0</td>\n",
       "      <td>0.0</td>\n",
       "      <td>4969.0</td>\n",
       "      <td>4969.0</td>\n",
       "      <td>0.0</td>\n",
       "      <td>4969.0</td>\n",
       "      <td>37070.0</td>\n",
       "    </tr>\n",
       "  </tbody>\n",
       "</table>\n",
       "<p>250 rows × 32 columns</p>\n",
       "</div>"
      ],
      "text/plain": [
       "MSN StateCode  Year        MMT  BDFDB  BDPRP   BFFDB  BFPRP      CLPRB  \\\n",
       "0          AK  2015  35.027804   21.0    4.0    21.0    4.0    17747.0   \n",
       "1          AK  2016  33.405611   27.0    5.0    27.0    5.0    13942.0   \n",
       "2          AK  2017  33.729130   29.0    5.0    29.0    5.0    14365.0   \n",
       "3          AK  2018  34.514589   15.0    3.0    15.0    3.0    13752.0   \n",
       "4          AK  2019  34.259440    0.0    0.0     0.0    0.0    14867.0   \n",
       "..        ...   ...        ...    ...    ...     ...    ...        ...   \n",
       "245        WY  2015  64.092863    0.0    0.0  1192.0  209.0  6538240.0   \n",
       "246        WY  2016  61.259993    0.0    0.0     0.0    0.0  5169939.0   \n",
       "247        WY  2017  62.796487    0.0    0.0     0.0    0.0  5516757.0   \n",
       "248        WY  2018  63.846081    0.0    0.0     0.0    0.0  5315953.0   \n",
       "249        WY  2019  59.096649    0.0    0.0     0.0    0.0  4828513.0   \n",
       "\n",
       "MSN   CLPRK     CLPRP  ...    REPRB   SOTCB      TEPRB     TETCB  WDEXB  \\\n",
       "0    15.073    1177.0  ...  23807.0     3.0  1429942.0  614242.0    0.0   \n",
       "1    14.957     932.0  ...  25155.0    14.0  1435363.0  593662.0    0.0   \n",
       "2    14.978     959.0  ...  23620.0    20.0  1454196.0  601492.0    0.0   \n",
       "3    15.253     902.0  ...  24158.0    28.0  1410604.0  604644.0    0.0   \n",
       "4    15.252     975.0  ...  22754.0    40.0  1370342.0  605689.0    0.0   \n",
       "..      ...       ...  ...      ...     ...        ...       ...    ...   \n",
       "245  17.399  375773.0  ...  49887.0    27.0  9080777.0  507121.0    0.0   \n",
       "246  17.394  297218.0  ...  54565.0    33.0  7518440.0  504984.0    0.0   \n",
       "247  17.433  316454.0  ...  55916.0    45.0  7794586.0  534840.0    0.0   \n",
       "248  17.476  304188.0  ...  51483.0    67.0  7711992.0  557604.0    0.0   \n",
       "249  17.437  276912.0  ...  53228.0  1688.0  7148285.0  546671.0    0.0   \n",
       "\n",
       "MSN   WDPRB   WDTCB  WSTCB   WWPRB    WYTCB  \n",
       "0    6865.0  6865.0  622.0  7488.0   1488.0  \n",
       "1    7636.0  7636.0  412.0  8048.0   1563.0  \n",
       "2    6501.0  6501.0  436.0  6937.0   1305.0  \n",
       "3    6910.0  6910.0  456.0  7366.0   1411.0  \n",
       "4    6418.0  6418.0  386.0  6803.0   1270.0  \n",
       "..      ...     ...    ...     ...      ...  \n",
       "245  4904.0  4904.0    2.0  4905.0  35009.0  \n",
       "246  4357.0  4357.0    2.0  4358.0  40522.0  \n",
       "247  5049.0  5049.0    0.0  5049.0  39806.0  \n",
       "248  4934.0  4934.0    0.0  4934.0  36936.0  \n",
       "249  4969.0  4969.0    0.0  4969.0  37070.0  \n",
       "\n",
       "[250 rows x 32 columns]"
      ]
     },
     "execution_count": 63,
     "metadata": {},
     "output_type": "execute_result"
    }
   ],
   "source": [
    "# Organizing the Table into Desired Format using Pivot Tables\n",
    "multi_variables = df\n",
    "multi_variables['TotalNumberofInvestments'].replace('', np.nan, inplace=True)\n",
    "multi_variables.dropna(subset=['TotalNumberofInvestments'], inplace=True)\n",
    "\n",
    "multi_variables = df[['StateCode', 'Year', 'MSN', 'Amount', 'MMT']].drop_duplicates()\n",
    "\n",
    "multi_variables = multi_variables.pivot(index=['StateCode', 'Year', 'MMT'], columns='MSN', values='Amount')\n",
    "\n",
    "multi_variables.reset_index()"
   ]
  },
  {
   "cell_type": "code",
   "execution_count": 251,
   "metadata": {},
   "outputs": [
    {
     "name": "stdout",
     "output_type": "stream",
     "text": [
      "[    0.     0.     0.     0.     0.     0.     0.  1137.  4462.  5308.\n",
      "     0.     0.  5455.  8489.  8833.     0.     0.     0.     0.     0.\n",
      "     0.     0.     0.     0.     0.     0.     0.     0.     0.     0.\n",
      "     0.     0.     0.     0.     0.     0.     0.     0.     0.     0.\n",
      "     0.  9939.  9840. 11096. 11065.     0. 15655. 17323. 19163. 19523.\n",
      "     0.     0.     0.     0.     0.     0.     0.     0.     0.     0.\n",
      "     0.     0.     0.     0.     0.     0.     0.     0.     0.     0.\n",
      "     0.     0.     0.     0.     0.     0.     0.     0.     0.     0.\n",
      "     0.     0.     0.     0.     0.     0.  6011.  5951.  6711.  6692.\n",
      "     0.     0.     0.     0.     0.     0.     0.     0.     0.     0.\n",
      "     0.     0.     0.     0.     0.     0.     0.     0.     0.     0.\n",
      "     0.     0.     0.     0.     0.     0.     0.     0.     0.     0.\n",
      "     0.  9243.  7511.  8301.  8278.     0.     0.     0.     0.     0.\n",
      "     0. 17887. 17708. 19969. 19912.     0.     0.     0.     0.     0.\n",
      "     0.     0.     0.     0.     0.     0.     0.     0.     0.     0.\n",
      "     0.     0.     0.     0.     0.     0.     0.     0.     0.     0.\n",
      "     0.     0.     0.     0.     0.     0.     0.     0.     0.     0.\n",
      "     0.     0.     0.     0.     0.     0.     0.     0.     0.     0.\n",
      "     0.     0.     0.     0.     0.     0.     0.     0.     0.     0.\n",
      "     0.     0.     0.     0.     0.     0.  6011.  5951.  6992.  8179.\n",
      "     0.     0.     0.     0.     0.     0.     0.     0.   134.  1606.\n",
      "     0.     0.     0.     0.  5532.     0.     0.     0.     0.     0.\n",
      "     0.  7829.  7750.  8740.  8715.     0.     0.     0.     0.     0.\n",
      "     0.     0.     0.     0.     0.     0.     0.     0.     0.     0.\n",
      "     0.     0.     0.     0.     0.     0.     0.     0.     0.     0.]\n"
     ]
    }
   ],
   "source": [
    "msn1 = multi_variables.reset_index()['BDFDB'].values\n",
    "msn2 = multi_variables.reset_index()['BDPRP'].values\n",
    "msn3 = multi_variables.reset_index()['BFFDB'].values\n",
    "msn4 = multi_variables.reset_index()['BFPRP'].values\n",
    "msn5 = multi_variables.reset_index()['CLPRB'].values\n",
    "msn6 = multi_variables.reset_index()['CLPRK'].values\n",
    "msn7 = multi_variables.reset_index()['CLPRP'].values\n",
    "msn8 = multi_variables.reset_index()['COPRK'].values\n",
    "msn9 = multi_variables.reset_index()['EMFDB'].values\n",
    "msn10 = multi_variables.reset_index()['ENPRP'].values\n",
    "msn11 = multi_variables.reset_index()['GETCB'].values\n",
    "msn12 = multi_variables.reset_index()['HYTCB'].values\n",
    "msn13 = multi_variables.reset_index()['NCPRB'].values\n",
    "msn14 = multi_variables.reset_index()['NGMPB'].values\n",
    "msn15 = multi_variables.reset_index()['NGMPK'].values\n",
    "msn16 = multi_variables.reset_index()['NGMPP'].values\n",
    "msn17 = multi_variables.reset_index()['NUETB'].values\n",
    "msn18 = multi_variables.reset_index()['PAPRB'].values\n",
    "msn19 = multi_variables.reset_index()['PAPRP'].values\n",
    "msn20 = multi_variables.reset_index()['REPRB'].values\n",
    "msn21 = multi_variables.reset_index()['SOTCB'].values\n",
    "msn22 = multi_variables.reset_index()['TEPRB'].values\n",
    "msn23 = multi_variables.reset_index()['TETCB'].values\n",
    "msn24 = multi_variables.reset_index()['WDEXB'].values\n",
    "msn25 = multi_variables.reset_index()['WDPRB'].values\n",
    "msn26 = multi_variables.reset_index()['WDTCB'].values\n",
    "msn27 = multi_variables.reset_index()['WSTCB'].values\n",
    "msn28 = multi_variables.reset_index()['WWPRB'].values\n",
    "msn29 = multi_variables.reset_index()['WYTCB'].values\n",
    "\n",
    "# x = np.asarray([msn1, msn2, msn3, msn4, msn5, msn6, msn7, msn8, msn9, msn10, msn11, msn12, msn13, msn14, msn15, msn16, msn17, msn18, msn19, msn20, msn21, msn22, msn23, msn24, msn25, msn26, msn27, msn28, msn29]).T\n",
    "x = msn24\n",
    "print(x)\n",
    "\n"
   ]
  },
  {
   "cell_type": "code",
   "execution_count": 252,
   "metadata": {},
   "outputs": [
    {
     "name": "stdout",
     "output_type": "stream",
     "text": [
      "[0. 0. 0. 0. 0.]\n",
      "[3345612.0, 1864412.0, 13453887.0, 1724853.0, 30077512.0]\n"
     ]
    }
   ],
   "source": [
    "x_values = x[0:5]\n",
    "print(x_values)\n",
    "y_values = res[0:5]\n",
    "print(y_values)"
   ]
  },
  {
   "cell_type": "code",
   "execution_count": 253,
   "metadata": {},
   "outputs": [],
   "source": [
    "x = np.arange(-1,7,0.1) "
   ]
  },
  {
   "cell_type": "code",
   "execution_count": 254,
   "metadata": {},
   "outputs": [],
   "source": [
    " def plot_GPR(data_x, data_y, model, x, visible=True) -> list:\n",
    "    mean = model.predict(x)\n",
    "\n",
    "    std = np.sqrt(model._memory['variance'])\n",
    "    data = []\n",
    "\n",
    "    for i in range(1, 4):\n",
    "        data.append(\n",
    "            uncertainty_area_scatter(\n",
    "                x_lines=x,\n",
    "                y_lower=mean - i * std,\n",
    "                y_upper=mean + i * std,\n",
    "                name=f\"mean plus/minus {i}*standard deviation\",\n",
    "                visible=visible))\n",
    "\n",
    "    data.append(line_scatter(x_lines=x, y_lines=mean, visible=visible))\n",
    "    data.append(dot_scatter(x_dots=data_x, y_dots=data_y, visible=visible))\n",
    "    return data"
   ]
  },
  {
   "cell_type": "code",
   "execution_count": 255,
   "metadata": {},
   "outputs": [
    {
     "data": {
      "application/vnd.plotly.v1+json": {
       "config": {
        "plotlyServerURL": "https://plot.ly"
       },
       "data": [
        {
         "fill": "toself",
         "fillcolor": "rgba(189,195,199,0.5)",
         "hoverinfo": "skip",
         "line": {
          "color": "rgba(200,200,200,0)"
         },
         "name": "mean plus/minus 1*standard deviation",
         "showlegend": true,
         "type": "scatter",
         "visible": true,
         "x": [
          -1,
          -0.9,
          -0.8,
          -0.7000000000000001,
          -0.6000000000000001,
          -0.5000000000000001,
          -0.40000000000000013,
          -0.30000000000000016,
          -0.20000000000000018,
          -0.1000000000000002,
          -2.220446049250313e-16,
          0.09999999999999964,
          0.19999999999999973,
          0.2999999999999998,
          0.3999999999999997,
          0.49999999999999956,
          0.5999999999999996,
          0.6999999999999997,
          0.7999999999999996,
          0.8999999999999995,
          0.9999999999999996,
          1.0999999999999996,
          1.1999999999999993,
          1.2999999999999994,
          1.3999999999999995,
          1.4999999999999996,
          1.5999999999999996,
          1.6999999999999993,
          1.7999999999999994,
          1.8999999999999995,
          1.9999999999999991,
          2.099999999999999,
          2.1999999999999993,
          2.2999999999999994,
          2.3999999999999995,
          2.499999999999999,
          2.599999999999999,
          2.6999999999999993,
          2.799999999999999,
          2.899999999999999,
          2.999999999999999,
          3.0999999999999988,
          3.1999999999999993,
          3.299999999999999,
          3.3999999999999986,
          3.499999999999999,
          3.5999999999999988,
          3.6999999999999993,
          3.799999999999999,
          3.8999999999999986,
          3.999999999999999,
          4.099999999999999,
          4.199999999999999,
          4.299999999999999,
          4.399999999999999,
          4.499999999999999,
          4.599999999999999,
          4.699999999999998,
          4.799999999999999,
          4.899999999999999,
          4.999999999999998,
          5.099999999999999,
          5.199999999999998,
          5.299999999999999,
          5.399999999999999,
          5.499999999999998,
          5.599999999999999,
          5.699999999999998,
          5.799999999999999,
          5.899999999999999,
          5.999999999999998,
          6.099999999999999,
          6.199999999999998,
          6.299999999999998,
          6.399999999999999,
          6.499999999999998,
          6.599999999999998,
          6.699999999999998,
          6.799999999999998,
          6.899999999999999,
          6.899999999999999,
          6.799999999999998,
          6.699999999999998,
          6.599999999999998,
          6.499999999999998,
          6.399999999999999,
          6.299999999999998,
          6.199999999999998,
          6.099999999999999,
          5.999999999999998,
          5.899999999999999,
          5.799999999999999,
          5.699999999999998,
          5.599999999999999,
          5.499999999999998,
          5.399999999999999,
          5.299999999999999,
          5.199999999999998,
          5.099999999999999,
          4.999999999999998,
          4.899999999999999,
          4.799999999999999,
          4.699999999999998,
          4.599999999999999,
          4.499999999999999,
          4.399999999999999,
          4.299999999999999,
          4.199999999999999,
          4.099999999999999,
          3.999999999999999,
          3.8999999999999986,
          3.799999999999999,
          3.6999999999999993,
          3.5999999999999988,
          3.499999999999999,
          3.3999999999999986,
          3.299999999999999,
          3.1999999999999993,
          3.0999999999999988,
          2.999999999999999,
          2.899999999999999,
          2.799999999999999,
          2.6999999999999993,
          2.599999999999999,
          2.499999999999999,
          2.3999999999999995,
          2.2999999999999994,
          2.1999999999999993,
          2.099999999999999,
          1.9999999999999991,
          1.8999999999999995,
          1.7999999999999994,
          1.6999999999999993,
          1.5999999999999996,
          1.4999999999999996,
          1.3999999999999995,
          1.2999999999999994,
          1.1999999999999993,
          1.0999999999999996,
          0.9999999999999996,
          0.8999999999999995,
          0.7999999999999996,
          0.6999999999999997,
          0.5999999999999996,
          0.49999999999999956,
          0.3999999999999997,
          0.2999999999999998,
          0.19999999999999973,
          0.09999999999999964,
          -2.220446049250313e-16,
          -0.1000000000000002,
          -0.20000000000000018,
          -0.30000000000000016,
          -0.40000000000000013,
          -0.5000000000000001,
          -0.6000000000000001,
          -0.7000000000000001,
          -0.8,
          -0.9,
          -1
         ],
         "y": [
          6121869.163933274,
          6731967.499181606,
          7329207.793217515,
          7900036.796497188,
          8430595.44601762,
          8907266.387858983,
          9317248.688188203,
          9649126.26849354,
          9893394.956635917,
          10042914.370041385,
          10093254.602162074,
          10042914.370041385,
          9893394.964031577,
          9649126.260264203,
          9317248.687771363,
          8907266.387025306,
          8430595.45299644,
          7900036.803476009,
          7329207.791966998,
          6731967.505743588,
          6121869.163099596,
          5511669.050129691,
          4912915.315026629,
          4335632.679694069,
          3788111.398606404,
          3276800.952580737,
          2806302.2206304492,
          2379446.142787169,
          1997442.9335694073,
          1660083.5496025854,
          1365974.4590673356,
          1112787.6147304268,
          897509.5188091093,
          716676.1104288403,
          566583.4515943897,
          443467.65585042024,
          343650.62850274704,
          263651.03987802047,
          200262.22042658576,
          150600.292516605,
          112126.930321013,
          82651.64403931654,
          60318.52052687867,
          43582.05850355978,
          31176.190972267756,
          22079.904781183304,
          15482.141685873214,
          10747.956706254497,
          7387.268130045902,
          5026.9908461755895,
          3386.9097120736565,
          2259.3232591673664,
          1492.2618167761539,
          975.9419170564228,
          632.0454557919852,
          405.38924700632424,
          257.563936102476,
          162.15681506307425,
          101.2210151348673,
          62.705798085344426,
          38.61405939239195,
          23.700294637553824,
          14.563439590904347,
          9.023525506201068,
          5.69913255496742,
          3.7247534630463797,
          2.564205444826564,
          1.8890321014009488,
          1.500262757342744,
          1.2786993810838514,
          1.1537202130124724,
          1.0839427452794712,
          1.0453829498534377,
          1.0242918122889284,
          1.012873163911366,
          1.0067541382096044,
          1.0035084555623113,
          1.0018043786779935,
          1.000918784616657,
          1.000463224734344,
          -0.9995370752656334,
          -0.9990815153833202,
          -0.9981959213219836,
          -0.9964918444376659,
          -0.9932461617903731,
          -0.9871271360886115,
          -0.9757084877110488,
          -0.9546173501465396,
          -0.9160575547205061,
          -0.8462800869875048,
          -0.7213009189161255,
          -0.499737542657231,
          -0.11096819859902107,
          0.5642051448266105,
          1.7247531630464754,
          3.69913225496766,
          7.023525206201722,
          12.563439290906176,
          21.70029433755891,
          36.61405909240587,
          60.70579778538182,
          99.22101483496591,
          160.15681476332924,
          255.5639358031222,
          403.3892467079295,
          630.0454554958942,
          973.941916765753,
          1490.2618164979835,
          2257.323258917428,
          3384.9097118861914,
          5024.990846123548,
          7385.268130281437,
          10745.956707088224,
          15480.14168792579,
          22077.904785668423,
          31174.190981507938,
          43580.05852190361,
          60316.52056229183,
          82649.64410607246,
          112124.9304441266,
          150598.2927389472,
          200260.22081999347,
          263649.0405601648,
          343648.6296620121,
          443465.65778150654,
          566581.4547476869,
          716674.1154766703,
          897507.5267315543,
          1112785.626922466,
          1365972.4774673132,
          1660081.5768395942,
          1997440.9731241444,
          2379444.1991574815,
          2806300.2994895754,
          3276799.0609136606,
          3788109.5448082625,
          4335630.873614573,
          4912913.567946144,
          5511667.374655981,
          6121867.572978996,
          6731966.0155862,
          7329206.416891863,
          7900035.558688569,
          8430594.35331646,
          8907265.446388153,
          9317247.918728942,
          9649125.673513252,
          9893394.56799664,
          10042914.170536749,
          10093254.600962926,
          10042914.170536749,
          9893394.56060098,
          9649125.681742594,
          9317247.919145778,
          8907265.44722183,
          8430594.346337639,
          7900035.551709748,
          7329206.418142379,
          6731966.009024218,
          6121867.573812674
         ]
        },
        {
         "fill": "toself",
         "fillcolor": "rgba(189,195,199,0.5)",
         "hoverinfo": "skip",
         "line": {
          "color": "rgba(200,200,200,0)"
         },
         "name": "mean plus/minus 2*standard deviation",
         "showlegend": true,
         "type": "scatter",
         "visible": true,
         "x": [
          -1,
          -0.9,
          -0.8,
          -0.7000000000000001,
          -0.6000000000000001,
          -0.5000000000000001,
          -0.40000000000000013,
          -0.30000000000000016,
          -0.20000000000000018,
          -0.1000000000000002,
          -2.220446049250313e-16,
          0.09999999999999964,
          0.19999999999999973,
          0.2999999999999998,
          0.3999999999999997,
          0.49999999999999956,
          0.5999999999999996,
          0.6999999999999997,
          0.7999999999999996,
          0.8999999999999995,
          0.9999999999999996,
          1.0999999999999996,
          1.1999999999999993,
          1.2999999999999994,
          1.3999999999999995,
          1.4999999999999996,
          1.5999999999999996,
          1.6999999999999993,
          1.7999999999999994,
          1.8999999999999995,
          1.9999999999999991,
          2.099999999999999,
          2.1999999999999993,
          2.2999999999999994,
          2.3999999999999995,
          2.499999999999999,
          2.599999999999999,
          2.6999999999999993,
          2.799999999999999,
          2.899999999999999,
          2.999999999999999,
          3.0999999999999988,
          3.1999999999999993,
          3.299999999999999,
          3.3999999999999986,
          3.499999999999999,
          3.5999999999999988,
          3.6999999999999993,
          3.799999999999999,
          3.8999999999999986,
          3.999999999999999,
          4.099999999999999,
          4.199999999999999,
          4.299999999999999,
          4.399999999999999,
          4.499999999999999,
          4.599999999999999,
          4.699999999999998,
          4.799999999999999,
          4.899999999999999,
          4.999999999999998,
          5.099999999999999,
          5.199999999999998,
          5.299999999999999,
          5.399999999999999,
          5.499999999999998,
          5.599999999999999,
          5.699999999999998,
          5.799999999999999,
          5.899999999999999,
          5.999999999999998,
          6.099999999999999,
          6.199999999999998,
          6.299999999999998,
          6.399999999999999,
          6.499999999999998,
          6.599999999999998,
          6.699999999999998,
          6.799999999999998,
          6.899999999999999,
          6.899999999999999,
          6.799999999999998,
          6.699999999999998,
          6.599999999999998,
          6.499999999999998,
          6.399999999999999,
          6.299999999999998,
          6.199999999999998,
          6.099999999999999,
          5.999999999999998,
          5.899999999999999,
          5.799999999999999,
          5.699999999999998,
          5.599999999999999,
          5.499999999999998,
          5.399999999999999,
          5.299999999999999,
          5.199999999999998,
          5.099999999999999,
          4.999999999999998,
          4.899999999999999,
          4.799999999999999,
          4.699999999999998,
          4.599999999999999,
          4.499999999999999,
          4.399999999999999,
          4.299999999999999,
          4.199999999999999,
          4.099999999999999,
          3.999999999999999,
          3.8999999999999986,
          3.799999999999999,
          3.6999999999999993,
          3.5999999999999988,
          3.499999999999999,
          3.3999999999999986,
          3.299999999999999,
          3.1999999999999993,
          3.0999999999999988,
          2.999999999999999,
          2.899999999999999,
          2.799999999999999,
          2.6999999999999993,
          2.599999999999999,
          2.499999999999999,
          2.3999999999999995,
          2.2999999999999994,
          2.1999999999999993,
          2.099999999999999,
          1.9999999999999991,
          1.8999999999999995,
          1.7999999999999994,
          1.6999999999999993,
          1.5999999999999996,
          1.4999999999999996,
          1.3999999999999995,
          1.2999999999999994,
          1.1999999999999993,
          1.0999999999999996,
          0.9999999999999996,
          0.8999999999999995,
          0.7999999999999996,
          0.6999999999999997,
          0.5999999999999996,
          0.49999999999999956,
          0.3999999999999997,
          0.2999999999999998,
          0.19999999999999973,
          0.09999999999999964,
          -2.220446049250313e-16,
          -0.1000000000000002,
          -0.20000000000000018,
          -0.30000000000000016,
          -0.40000000000000013,
          -0.5000000000000001,
          -0.6000000000000001,
          -0.7000000000000001,
          -0.8,
          -0.9,
          -1
         ],
         "y": [
          6121869.958993574,
          6731968.2442603,
          7329208.480755082,
          7900037.418890907,
          8430595.99585761,
          8907266.85817756,
          9317249.072709413,
          9649126.561869016,
          9893395.154653385,
          10042914.469793705,
          10093254.602761647,
          10042914.469793705,
          9893395.162049046,
          9649126.553639676,
          9317249.072292574,
          8907266.857343882,
          8430596.00283643,
          7900037.425869728,
          7329208.479504566,
          6731968.250822282,
          6121869.958159897,
          5511669.887866546,
          4912916.188566872,
          4335633.582733817,
          3788112.325505475,
          3276801.8984142747,
          2806303.181200886,
          2379447.114602013,
          1997443.9137920388,
          1660084.5359840808,
          1365975.4498673468,
          1112788.6086344074,
          897510.514847887,
          716677.1079049252,
          566584.4500177411,
          443468.6548848771,
          343651.6279231145,
          263652.03953694826,
          200263.2202298819,
          150601.2924054339,
          112127.93025945622,
          82652.64400593856,
          60319.520509172085,
          43583.05849438787,
          31177.190967647664,
          22080.90477894074,
          15483.141684846925,
          10748.956705837634,
          7388.268129928135,
          5027.990846201609,
          3387.909712167389,
          2260.323259292335,
          1493.261816915239,
          976.9419172017576,
          633.0454559400307,
          406.3892471555216,
          258.5639362521529,
          163.15681521294678,
          102.221015284818,
          63.70579823532572,
          39.614059542385,
          24.700294787551286,
          15.563439740903434,
          10.02352565620074,
          6.699132704967301,
          4.724753613046332,
          3.5642055948265403,
          2.8890322514009337,
          2.500262907342732,
          2.27869953108384,
          2.1537203630124613,
          2.08394289527946,
          2.0453830998534266,
          2.0242919622889173,
          2.0128733139113546,
          2.006754288209593,
          2.0035086055623,
          2.001804528677982,
          2.000918934616646,
          2.0004633747343328,
          -1.999537225265622,
          -1.999081665383309,
          -1.9981960713219724,
          -1.9964919944376547,
          -1.9932463117903616,
          -1.9871272860886,
          -1.9757086377110376,
          -1.9546175001465282,
          -1.9160577047204947,
          -1.8462802369874933,
          -1.721301068916114,
          -1.4997376926572186,
          -1.1109683485990058,
          -0.4357950051733661,
          0.7247530130465232,
          2.6991321049677794,
          6.0235250562020495,
          11.56343914090709,
          20.700294187561447,
          35.61405894241282,
          59.70579763540052,
          98.22101468501522,
          159.1568146134567,
          254.56393565344527,
          402.3892465587321,
          629.0454553478487,
          972.9419166204182,
          1489.2618163588984,
          2256.3232587924595,
          3383.909711792459,
          5023.990846097528,
          7384.268130399204,
          10744.956707505087,
          15479.141688952079,
          22076.904787910986,
          31173.19098612803,
          43579.05853107552,
          60315.52057999841,
          82648.64413945044,
          112123.93050568338,
          150597.2928501183,
          200259.22101669732,
          263648.040901237,
          343647.6302416446,
          443464.6587470497,
          566580.4563243355,
          716673.1180005854,
          897506.5306927767,
          1112784.6330184855,
          1365971.486667302,
          1660080.5904580988,
          1997439.992901513,
          2379443.2273426377,
          2806299.3389191385,
          3276798.115080123,
          3788108.6179091916,
          4335629.970574824,
          4912912.694405901,
          5511666.536919125,
          6121866.7779186955,
          6731965.270507506,
          7329205.729354295,
          7900034.936294849,
          8430593.80347647,
          8907264.976069577,
          9317247.534207731,
          9649125.380137779,
          9893394.369979171,
          10042914.07078443,
          10093254.600363353,
          10042914.07078443,
          9893394.36258351,
          9649125.388367118,
          9317247.534624567,
          8907264.976903254,
          8430593.796497649,
          7900034.929316028,
          7329205.730604812,
          6731965.263945524,
          6121866.778752374
         ]
        },
        {
         "fill": "toself",
         "fillcolor": "rgba(189,195,199,0.5)",
         "hoverinfo": "skip",
         "line": {
          "color": "rgba(200,200,200,0)"
         },
         "name": "mean plus/minus 3*standard deviation",
         "showlegend": true,
         "type": "scatter",
         "visible": true,
         "x": [
          -1,
          -0.9,
          -0.8,
          -0.7000000000000001,
          -0.6000000000000001,
          -0.5000000000000001,
          -0.40000000000000013,
          -0.30000000000000016,
          -0.20000000000000018,
          -0.1000000000000002,
          -2.220446049250313e-16,
          0.09999999999999964,
          0.19999999999999973,
          0.2999999999999998,
          0.3999999999999997,
          0.49999999999999956,
          0.5999999999999996,
          0.6999999999999997,
          0.7999999999999996,
          0.8999999999999995,
          0.9999999999999996,
          1.0999999999999996,
          1.1999999999999993,
          1.2999999999999994,
          1.3999999999999995,
          1.4999999999999996,
          1.5999999999999996,
          1.6999999999999993,
          1.7999999999999994,
          1.8999999999999995,
          1.9999999999999991,
          2.099999999999999,
          2.1999999999999993,
          2.2999999999999994,
          2.3999999999999995,
          2.499999999999999,
          2.599999999999999,
          2.6999999999999993,
          2.799999999999999,
          2.899999999999999,
          2.999999999999999,
          3.0999999999999988,
          3.1999999999999993,
          3.299999999999999,
          3.3999999999999986,
          3.499999999999999,
          3.5999999999999988,
          3.6999999999999993,
          3.799999999999999,
          3.8999999999999986,
          3.999999999999999,
          4.099999999999999,
          4.199999999999999,
          4.299999999999999,
          4.399999999999999,
          4.499999999999999,
          4.599999999999999,
          4.699999999999998,
          4.799999999999999,
          4.899999999999999,
          4.999999999999998,
          5.099999999999999,
          5.199999999999998,
          5.299999999999999,
          5.399999999999999,
          5.499999999999998,
          5.599999999999999,
          5.699999999999998,
          5.799999999999999,
          5.899999999999999,
          5.999999999999998,
          6.099999999999999,
          6.199999999999998,
          6.299999999999998,
          6.399999999999999,
          6.499999999999998,
          6.599999999999998,
          6.699999999999998,
          6.799999999999998,
          6.899999999999999,
          6.899999999999999,
          6.799999999999998,
          6.699999999999998,
          6.599999999999998,
          6.499999999999998,
          6.399999999999999,
          6.299999999999998,
          6.199999999999998,
          6.099999999999999,
          5.999999999999998,
          5.899999999999999,
          5.799999999999999,
          5.699999999999998,
          5.599999999999999,
          5.499999999999998,
          5.399999999999999,
          5.299999999999999,
          5.199999999999998,
          5.099999999999999,
          4.999999999999998,
          4.899999999999999,
          4.799999999999999,
          4.699999999999998,
          4.599999999999999,
          4.499999999999999,
          4.399999999999999,
          4.299999999999999,
          4.199999999999999,
          4.099999999999999,
          3.999999999999999,
          3.8999999999999986,
          3.799999999999999,
          3.6999999999999993,
          3.5999999999999988,
          3.499999999999999,
          3.3999999999999986,
          3.299999999999999,
          3.1999999999999993,
          3.0999999999999988,
          2.999999999999999,
          2.899999999999999,
          2.799999999999999,
          2.6999999999999993,
          2.599999999999999,
          2.499999999999999,
          2.3999999999999995,
          2.2999999999999994,
          2.1999999999999993,
          2.099999999999999,
          1.9999999999999991,
          1.8999999999999995,
          1.7999999999999994,
          1.6999999999999993,
          1.5999999999999996,
          1.4999999999999996,
          1.3999999999999995,
          1.2999999999999994,
          1.1999999999999993,
          1.0999999999999996,
          0.9999999999999996,
          0.8999999999999995,
          0.7999999999999996,
          0.6999999999999997,
          0.5999999999999996,
          0.49999999999999956,
          0.3999999999999997,
          0.2999999999999998,
          0.19999999999999973,
          0.09999999999999964,
          -2.220446049250313e-16,
          -0.1000000000000002,
          -0.20000000000000018,
          -0.30000000000000016,
          -0.40000000000000013,
          -0.5000000000000001,
          -0.6000000000000001,
          -0.7000000000000001,
          -0.8,
          -0.9,
          -1
         ],
         "y": [
          6121870.754053874,
          6731968.989338994,
          7329209.16829265,
          7900038.041284627,
          8430596.545697602,
          8907267.328496136,
          9317249.457230626,
          9649126.85524449,
          9893395.352670854,
          10042914.569546023,
          10093254.603361221,
          10042914.569546023,
          9893395.360066516,
          9649126.847015152,
          9317249.456813784,
          8907267.327662459,
          8430596.55267642,
          7900038.048263447,
          7329209.167042133,
          6731968.995900976,
          6121870.753220197,
          5511670.725603401,
          4912917.062107114,
          4335634.485773565,
          3788113.252404546,
          3276802.844247813,
          2806304.1417713226,
          2379448.086416857,
          1997444.8940146703,
          1660085.5223655764,
          1365976.440667358,
          1112789.6025383878,
          897511.5108866645,
          716678.1053810101,
          566585.4484410925,
          443469.65391933394,
          343652.62734348193,
          263653.0391958761,
          200264.22003317805,
          150602.2922942628,
          112128.93019789942,
          82653.6439725606,
          60320.520491465504,
          43584.05848521596,
          31178.19096302757,
          22081.904776698182,
          15484.141683820639,
          10749.95670542077,
          7389.268129810367,
          5028.99084622763,
          3388.909712261121,
          2261.323259417304,
          1494.2618170543244,
          977.9419173470924,
          634.0454560880762,
          407.389247304719,
          259.5639364018299,
          164.15681536281932,
          103.22101543476867,
          64.70579838530702,
          40.61405969237804,
          25.700294937548744,
          16.56343989090252,
          11.023525806200412,
          7.699132854967181,
          5.724753763046285,
          4.564205744826517,
          3.8890324014009185,
          3.5002630573427194,
          3.2786996810838285,
          3.15372051301245,
          3.0839430452794487,
          3.0453832498534155,
          3.024292112288906,
          3.0128734639113435,
          3.006754438209582,
          3.003508755562289,
          3.001804678677971,
          3.0009190846166347,
          3.0004635247343217,
          -2.9995373752656107,
          -2.9990818153832977,
          -2.9981962213219613,
          -2.9964921444376436,
          -2.9932464617903505,
          -2.987127436088589,
          -2.975708787711026,
          -2.954617650146517,
          -2.9160578547204836,
          -2.846280386987482,
          -2.721301218916102,
          -2.499737842657206,
          -2.1109684985989907,
          -1.4357951551733426,
          -0.2752471369534293,
          1.699131954967899,
          5.023524906202377,
          10.563438990908004,
          19.70029403756399,
          34.614058792419776,
          58.70579748541922,
          97.22101453506454,
          158.15681446358417,
          253.56393550376836,
          401.38924640953473,
          628.0454551998032,
          971.9419164750834,
          1488.261816219813,
          2255.3232586674903,
          3382.909711698727,
          5022.990846071508,
          7383.268130516972,
          10743.956707921952,
          15478.141689978365,
          22075.904790153545,
          31172.190990748124,
          43578.05854024743,
          60314.52059770499,
          82647.6441728284,
          112122.93056724018,
          150596.2929612894,
          200258.22121340118,
          263647.04124230915,
          343646.6308212772,
          443463.65971259284,
          566579.4579009841,
          716672.1205245005,
          897505.5346539991,
          1112783.6391145051,
          1365970.4958672908,
          1660079.6040766032,
          1997439.0126788814,
          2379442.255527794,
          2806298.378348702,
          3276797.1692465846,
          3788107.691010121,
          4335629.067535076,
          4912911.820865659,
          5511665.699182271,
          6121865.982858395,
          6731964.525428813,
          7329205.041816727,
          7900034.31390113,
          8430593.25363648,
          8907264.505751,
          9317247.14968652,
          9649125.086762303,
          9893394.1719617,
          10042913.971032111,
          10093254.599763779,
          10042913.971032111,
          9893394.164566042,
          9649125.094991645,
          9317247.150103355,
          8907264.506584678,
          8430593.246657657,
          7900034.306922308,
          7329205.043067244,
          6731964.51886683,
          6121865.983692074
         ]
        },
        {
         "line": {
          "color": "blue",
          "width": 2
         },
         "name": "Predicted function",
         "showlegend": true,
         "type": "scatter",
         "visible": true,
         "x": [
          -1,
          -0.9,
          -0.8,
          -0.7000000000000001,
          -0.6000000000000001,
          -0.5000000000000001,
          -0.40000000000000013,
          -0.30000000000000016,
          -0.20000000000000018,
          -0.1000000000000002,
          -2.220446049250313e-16,
          0.09999999999999964,
          0.19999999999999973,
          0.2999999999999998,
          0.3999999999999997,
          0.49999999999999956,
          0.5999999999999996,
          0.6999999999999997,
          0.7999999999999996,
          0.8999999999999995,
          0.9999999999999996,
          1.0999999999999996,
          1.1999999999999993,
          1.2999999999999994,
          1.3999999999999995,
          1.4999999999999996,
          1.5999999999999996,
          1.6999999999999993,
          1.7999999999999994,
          1.8999999999999995,
          1.9999999999999991,
          2.099999999999999,
          2.1999999999999993,
          2.2999999999999994,
          2.3999999999999995,
          2.499999999999999,
          2.599999999999999,
          2.6999999999999993,
          2.799999999999999,
          2.899999999999999,
          2.999999999999999,
          3.0999999999999988,
          3.1999999999999993,
          3.299999999999999,
          3.3999999999999986,
          3.499999999999999,
          3.5999999999999988,
          3.6999999999999993,
          3.799999999999999,
          3.8999999999999986,
          3.999999999999999,
          4.099999999999999,
          4.199999999999999,
          4.299999999999999,
          4.399999999999999,
          4.499999999999999,
          4.599999999999999,
          4.699999999999998,
          4.799999999999999,
          4.899999999999999,
          4.999999999999998,
          5.099999999999999,
          5.199999999999998,
          5.299999999999999,
          5.399999999999999,
          5.499999999999998,
          5.599999999999999,
          5.699999999999998,
          5.799999999999999,
          5.899999999999999,
          5.999999999999998,
          6.099999999999999,
          6.199999999999998,
          6.299999999999998,
          6.399999999999999,
          6.499999999999998,
          6.599999999999998,
          6.699999999999998,
          6.799999999999998,
          6.899999999999999
         ],
         "y": [
          6121868.368872974,
          6731966.754102912,
          7329207.105679947,
          7900036.174103468,
          8430594.896177629,
          8907265.917540407,
          9317248.30366699,
          9649125.975118067,
          9893394.758618448,
          10042914.270289067,
          10093254.6015625,
          10042914.270289067,
          9893394.766014108,
          9649125.966888728,
          9317248.303250153,
          8907265.91670673,
          8430594.90315645,
          7900036.181082289,
          7329207.10442943,
          6731966.760664894,
          6121868.368039296,
          5511668.212392836,
          4912914.441486387,
          4335631.776654321,
          3788110.4717073333,
          3276800.0067471988,
          2806301.2600600123,
          2379445.1709723254,
          1997441.9533467758,
          1660082.5632210898,
          1365973.4682673244,
          1112786.6208264465,
          897508.5227703318,
          716675.1129527553,
          566582.4531710383,
          443466.6568159634,
          343649.6290823796,
          263650.0402190926,
          200261.2206232896,
          150599.2926277761,
          112125.9303825698,
          82650.6440726945,
          60317.52054458525,
          43581.058512731695,
          31175.190976887847,
          22078.904783425864,
          15481.141686899502,
          10746.95670667136,
          7386.268130163669,
          5025.990846149569,
          3385.909711979924,
          2258.3232590423972,
          1491.2618166370687,
          974.9419169110879,
          631.0454556439397,
          404.38924685712686,
          256.5639359527991,
          161.15681491320174,
          100.22101498491661,
          61.70579793536312,
          37.61405924239891,
          22.700294487556366,
          13.563439440905261,
          8.023525356201395,
          4.69913240496754,
          2.7247533130464276,
          1.5642052948265872,
          0.8890319514009638,
          0.5002626073427565,
          0.278699231083863,
          0.15372006301248387,
          0.08394259527948253,
          0.04538279985344912,
          0.024291662288939826,
          0.012873013911377216,
          0.006753988209615626,
          0.0035083055623226825,
          0.001804228678004982,
          0.0009186346166683756,
          0.00046307473435525586
         ]
        },
        {
         "marker": {
          "color": "red",
          "size": 8
         },
         "mode": "markers",
         "name": "Observed points",
         "showlegend": true,
         "type": "scatter",
         "visible": true,
         "x": [
          0,
          0,
          0,
          0,
          0
         ],
         "y": [
          3345612,
          1864412,
          13453887,
          1724853,
          30077512
         ]
        }
       ],
       "layout": {
        "autosize": false,
        "height": 600,
        "legend": {
         "x": 0.95,
         "xanchor": "right",
         "y": 0.9,
         "yanchor": "top"
        },
        "plot_bgcolor": "rgba(0,0,0,0)",
        "template": {
         "data": {
          "bar": [
           {
            "error_x": {
             "color": "#2a3f5f"
            },
            "error_y": {
             "color": "#2a3f5f"
            },
            "marker": {
             "line": {
              "color": "#E5ECF6",
              "width": 0.5
             },
             "pattern": {
              "fillmode": "overlay",
              "size": 10,
              "solidity": 0.2
             }
            },
            "type": "bar"
           }
          ],
          "barpolar": [
           {
            "marker": {
             "line": {
              "color": "#E5ECF6",
              "width": 0.5
             },
             "pattern": {
              "fillmode": "overlay",
              "size": 10,
              "solidity": 0.2
             }
            },
            "type": "barpolar"
           }
          ],
          "carpet": [
           {
            "aaxis": {
             "endlinecolor": "#2a3f5f",
             "gridcolor": "white",
             "linecolor": "white",
             "minorgridcolor": "white",
             "startlinecolor": "#2a3f5f"
            },
            "baxis": {
             "endlinecolor": "#2a3f5f",
             "gridcolor": "white",
             "linecolor": "white",
             "minorgridcolor": "white",
             "startlinecolor": "#2a3f5f"
            },
            "type": "carpet"
           }
          ],
          "choropleth": [
           {
            "colorbar": {
             "outlinewidth": 0,
             "ticks": ""
            },
            "type": "choropleth"
           }
          ],
          "contour": [
           {
            "colorbar": {
             "outlinewidth": 0,
             "ticks": ""
            },
            "colorscale": [
             [
              0,
              "#0d0887"
             ],
             [
              0.1111111111111111,
              "#46039f"
             ],
             [
              0.2222222222222222,
              "#7201a8"
             ],
             [
              0.3333333333333333,
              "#9c179e"
             ],
             [
              0.4444444444444444,
              "#bd3786"
             ],
             [
              0.5555555555555556,
              "#d8576b"
             ],
             [
              0.6666666666666666,
              "#ed7953"
             ],
             [
              0.7777777777777778,
              "#fb9f3a"
             ],
             [
              0.8888888888888888,
              "#fdca26"
             ],
             [
              1,
              "#f0f921"
             ]
            ],
            "type": "contour"
           }
          ],
          "contourcarpet": [
           {
            "colorbar": {
             "outlinewidth": 0,
             "ticks": ""
            },
            "type": "contourcarpet"
           }
          ],
          "heatmap": [
           {
            "colorbar": {
             "outlinewidth": 0,
             "ticks": ""
            },
            "colorscale": [
             [
              0,
              "#0d0887"
             ],
             [
              0.1111111111111111,
              "#46039f"
             ],
             [
              0.2222222222222222,
              "#7201a8"
             ],
             [
              0.3333333333333333,
              "#9c179e"
             ],
             [
              0.4444444444444444,
              "#bd3786"
             ],
             [
              0.5555555555555556,
              "#d8576b"
             ],
             [
              0.6666666666666666,
              "#ed7953"
             ],
             [
              0.7777777777777778,
              "#fb9f3a"
             ],
             [
              0.8888888888888888,
              "#fdca26"
             ],
             [
              1,
              "#f0f921"
             ]
            ],
            "type": "heatmap"
           }
          ],
          "heatmapgl": [
           {
            "colorbar": {
             "outlinewidth": 0,
             "ticks": ""
            },
            "colorscale": [
             [
              0,
              "#0d0887"
             ],
             [
              0.1111111111111111,
              "#46039f"
             ],
             [
              0.2222222222222222,
              "#7201a8"
             ],
             [
              0.3333333333333333,
              "#9c179e"
             ],
             [
              0.4444444444444444,
              "#bd3786"
             ],
             [
              0.5555555555555556,
              "#d8576b"
             ],
             [
              0.6666666666666666,
              "#ed7953"
             ],
             [
              0.7777777777777778,
              "#fb9f3a"
             ],
             [
              0.8888888888888888,
              "#fdca26"
             ],
             [
              1,
              "#f0f921"
             ]
            ],
            "type": "heatmapgl"
           }
          ],
          "histogram": [
           {
            "marker": {
             "pattern": {
              "fillmode": "overlay",
              "size": 10,
              "solidity": 0.2
             }
            },
            "type": "histogram"
           }
          ],
          "histogram2d": [
           {
            "colorbar": {
             "outlinewidth": 0,
             "ticks": ""
            },
            "colorscale": [
             [
              0,
              "#0d0887"
             ],
             [
              0.1111111111111111,
              "#46039f"
             ],
             [
              0.2222222222222222,
              "#7201a8"
             ],
             [
              0.3333333333333333,
              "#9c179e"
             ],
             [
              0.4444444444444444,
              "#bd3786"
             ],
             [
              0.5555555555555556,
              "#d8576b"
             ],
             [
              0.6666666666666666,
              "#ed7953"
             ],
             [
              0.7777777777777778,
              "#fb9f3a"
             ],
             [
              0.8888888888888888,
              "#fdca26"
             ],
             [
              1,
              "#f0f921"
             ]
            ],
            "type": "histogram2d"
           }
          ],
          "histogram2dcontour": [
           {
            "colorbar": {
             "outlinewidth": 0,
             "ticks": ""
            },
            "colorscale": [
             [
              0,
              "#0d0887"
             ],
             [
              0.1111111111111111,
              "#46039f"
             ],
             [
              0.2222222222222222,
              "#7201a8"
             ],
             [
              0.3333333333333333,
              "#9c179e"
             ],
             [
              0.4444444444444444,
              "#bd3786"
             ],
             [
              0.5555555555555556,
              "#d8576b"
             ],
             [
              0.6666666666666666,
              "#ed7953"
             ],
             [
              0.7777777777777778,
              "#fb9f3a"
             ],
             [
              0.8888888888888888,
              "#fdca26"
             ],
             [
              1,
              "#f0f921"
             ]
            ],
            "type": "histogram2dcontour"
           }
          ],
          "mesh3d": [
           {
            "colorbar": {
             "outlinewidth": 0,
             "ticks": ""
            },
            "type": "mesh3d"
           }
          ],
          "parcoords": [
           {
            "line": {
             "colorbar": {
              "outlinewidth": 0,
              "ticks": ""
             }
            },
            "type": "parcoords"
           }
          ],
          "pie": [
           {
            "automargin": true,
            "type": "pie"
           }
          ],
          "scatter": [
           {
            "fillpattern": {
             "fillmode": "overlay",
             "size": 10,
             "solidity": 0.2
            },
            "type": "scatter"
           }
          ],
          "scatter3d": [
           {
            "line": {
             "colorbar": {
              "outlinewidth": 0,
              "ticks": ""
             }
            },
            "marker": {
             "colorbar": {
              "outlinewidth": 0,
              "ticks": ""
             }
            },
            "type": "scatter3d"
           }
          ],
          "scattercarpet": [
           {
            "marker": {
             "colorbar": {
              "outlinewidth": 0,
              "ticks": ""
             }
            },
            "type": "scattercarpet"
           }
          ],
          "scattergeo": [
           {
            "marker": {
             "colorbar": {
              "outlinewidth": 0,
              "ticks": ""
             }
            },
            "type": "scattergeo"
           }
          ],
          "scattergl": [
           {
            "marker": {
             "colorbar": {
              "outlinewidth": 0,
              "ticks": ""
             }
            },
            "type": "scattergl"
           }
          ],
          "scattermapbox": [
           {
            "marker": {
             "colorbar": {
              "outlinewidth": 0,
              "ticks": ""
             }
            },
            "type": "scattermapbox"
           }
          ],
          "scatterpolar": [
           {
            "marker": {
             "colorbar": {
              "outlinewidth": 0,
              "ticks": ""
             }
            },
            "type": "scatterpolar"
           }
          ],
          "scatterpolargl": [
           {
            "marker": {
             "colorbar": {
              "outlinewidth": 0,
              "ticks": ""
             }
            },
            "type": "scatterpolargl"
           }
          ],
          "scatterternary": [
           {
            "marker": {
             "colorbar": {
              "outlinewidth": 0,
              "ticks": ""
             }
            },
            "type": "scatterternary"
           }
          ],
          "surface": [
           {
            "colorbar": {
             "outlinewidth": 0,
             "ticks": ""
            },
            "colorscale": [
             [
              0,
              "#0d0887"
             ],
             [
              0.1111111111111111,
              "#46039f"
             ],
             [
              0.2222222222222222,
              "#7201a8"
             ],
             [
              0.3333333333333333,
              "#9c179e"
             ],
             [
              0.4444444444444444,
              "#bd3786"
             ],
             [
              0.5555555555555556,
              "#d8576b"
             ],
             [
              0.6666666666666666,
              "#ed7953"
             ],
             [
              0.7777777777777778,
              "#fb9f3a"
             ],
             [
              0.8888888888888888,
              "#fdca26"
             ],
             [
              1,
              "#f0f921"
             ]
            ],
            "type": "surface"
           }
          ],
          "table": [
           {
            "cells": {
             "fill": {
              "color": "#EBF0F8"
             },
             "line": {
              "color": "white"
             }
            },
            "header": {
             "fill": {
              "color": "#C8D4E3"
             },
             "line": {
              "color": "white"
             }
            },
            "type": "table"
           }
          ]
         },
         "layout": {
          "annotationdefaults": {
           "arrowcolor": "#2a3f5f",
           "arrowhead": 0,
           "arrowwidth": 1
          },
          "autotypenumbers": "strict",
          "coloraxis": {
           "colorbar": {
            "outlinewidth": 0,
            "ticks": ""
           }
          },
          "colorscale": {
           "diverging": [
            [
             0,
             "#8e0152"
            ],
            [
             0.1,
             "#c51b7d"
            ],
            [
             0.2,
             "#de77ae"
            ],
            [
             0.3,
             "#f1b6da"
            ],
            [
             0.4,
             "#fde0ef"
            ],
            [
             0.5,
             "#f7f7f7"
            ],
            [
             0.6,
             "#e6f5d0"
            ],
            [
             0.7,
             "#b8e186"
            ],
            [
             0.8,
             "#7fbc41"
            ],
            [
             0.9,
             "#4d9221"
            ],
            [
             1,
             "#276419"
            ]
           ],
           "sequential": [
            [
             0,
             "#0d0887"
            ],
            [
             0.1111111111111111,
             "#46039f"
            ],
            [
             0.2222222222222222,
             "#7201a8"
            ],
            [
             0.3333333333333333,
             "#9c179e"
            ],
            [
             0.4444444444444444,
             "#bd3786"
            ],
            [
             0.5555555555555556,
             "#d8576b"
            ],
            [
             0.6666666666666666,
             "#ed7953"
            ],
            [
             0.7777777777777778,
             "#fb9f3a"
            ],
            [
             0.8888888888888888,
             "#fdca26"
            ],
            [
             1,
             "#f0f921"
            ]
           ],
           "sequentialminus": [
            [
             0,
             "#0d0887"
            ],
            [
             0.1111111111111111,
             "#46039f"
            ],
            [
             0.2222222222222222,
             "#7201a8"
            ],
            [
             0.3333333333333333,
             "#9c179e"
            ],
            [
             0.4444444444444444,
             "#bd3786"
            ],
            [
             0.5555555555555556,
             "#d8576b"
            ],
            [
             0.6666666666666666,
             "#ed7953"
            ],
            [
             0.7777777777777778,
             "#fb9f3a"
            ],
            [
             0.8888888888888888,
             "#fdca26"
            ],
            [
             1,
             "#f0f921"
            ]
           ]
          },
          "colorway": [
           "#636efa",
           "#EF553B",
           "#00cc96",
           "#ab63fa",
           "#FFA15A",
           "#19d3f3",
           "#FF6692",
           "#B6E880",
           "#FF97FF",
           "#FECB52"
          ],
          "font": {
           "color": "#2a3f5f"
          },
          "geo": {
           "bgcolor": "white",
           "lakecolor": "white",
           "landcolor": "#E5ECF6",
           "showlakes": true,
           "showland": true,
           "subunitcolor": "white"
          },
          "hoverlabel": {
           "align": "left"
          },
          "hovermode": "closest",
          "mapbox": {
           "style": "light"
          },
          "paper_bgcolor": "white",
          "plot_bgcolor": "#E5ECF6",
          "polar": {
           "angularaxis": {
            "gridcolor": "white",
            "linecolor": "white",
            "ticks": ""
           },
           "bgcolor": "#E5ECF6",
           "radialaxis": {
            "gridcolor": "white",
            "linecolor": "white",
            "ticks": ""
           }
          },
          "scene": {
           "xaxis": {
            "backgroundcolor": "#E5ECF6",
            "gridcolor": "white",
            "gridwidth": 2,
            "linecolor": "white",
            "showbackground": true,
            "ticks": "",
            "zerolinecolor": "white"
           },
           "yaxis": {
            "backgroundcolor": "#E5ECF6",
            "gridcolor": "white",
            "gridwidth": 2,
            "linecolor": "white",
            "showbackground": true,
            "ticks": "",
            "zerolinecolor": "white"
           },
           "zaxis": {
            "backgroundcolor": "#E5ECF6",
            "gridcolor": "white",
            "gridwidth": 2,
            "linecolor": "white",
            "showbackground": true,
            "ticks": "",
            "zerolinecolor": "white"
           }
          },
          "shapedefaults": {
           "line": {
            "color": "#2a3f5f"
           }
          },
          "ternary": {
           "aaxis": {
            "gridcolor": "white",
            "linecolor": "white",
            "ticks": ""
           },
           "baxis": {
            "gridcolor": "white",
            "linecolor": "white",
            "ticks": ""
           },
           "bgcolor": "#E5ECF6",
           "caxis": {
            "gridcolor": "white",
            "linecolor": "white",
            "ticks": ""
           }
          },
          "title": {
           "x": 0.05
          },
          "xaxis": {
           "automargin": true,
           "gridcolor": "white",
           "linecolor": "white",
           "ticks": "",
           "title": {
            "standoff": 15
           },
           "zerolinecolor": "white",
           "zerolinewidth": 2
          },
          "yaxis": {
           "automargin": true,
           "gridcolor": "white",
           "linecolor": "white",
           "ticks": "",
           "title": {
            "standoff": 15
           },
           "zerolinecolor": "white",
           "zerolinewidth": 2
          }
         }
        },
        "title": {
         "text": "GPR with length 1, sigma 0 and noise 0",
         "x": 0.5,
         "xanchor": "center"
        },
        "width": 800,
        "xaxis": {
         "linecolor": "black",
         "linewidth": 1,
         "showline": true,
         "title": {
          "text": "input values"
         }
        },
        "yaxis": {
         "linecolor": "black",
         "linewidth": 1,
         "showline": true,
         "title": {
          "text": "output values"
         }
        }
       }
      }
     },
     "metadata": {},
     "output_type": "display_data"
    }
   ],
   "source": [
    "model = GPR(x_values, y_values)\n",
    "data = plot_GPR(data_x=x_values, data_y=y_values, x=x, model=model)\n",
    "fig4 = go.Figure(data=data)\n",
    "fig4 = update_layout_of_graph(fig=fig4,\n",
    "title='GPR with length 1, sigma 0 and noise 0')\n",
    "\n",
    "fig4.show()"
   ]
  },
  {
   "cell_type": "code",
   "execution_count": 256,
   "metadata": {},
   "outputs": [
    {
     "data": {
      "application/vnd.jupyter.widget-view+json": {
       "model_id": "ed347f4831a74465b5602d9c1f174275",
       "version_major": 2,
       "version_minor": 0
      },
      "text/plain": [
       "VBox(children=(FigureWidget({\n",
       "    'data': [{'marker': {'color': 'red', 'size': 8},\n",
       "              'mode': 'mark…"
      ]
     },
     "execution_count": 256,
     "metadata": {},
     "output_type": "execute_result"
    }
   ],
   "source": [
    "model = GPR(x_values, y_values)\n",
    "\n",
    "mean = model.predict(x)\n",
    "covariance_matrix = model._memory['covariance_matrix']\n",
    "\n",
    "fig1 = go.FigureWidget(data=[dot_scatter(x_dots=x_values, y_dots=y_values)])\n",
    "fig1 = update_layout_of_graph(\n",
    "    fig1,\n",
    "    title='Random drawings (i.e. random functions) of the Gaussian process')\n",
    "\n",
    "button = widgets.Button(description='Add random drawing')\n",
    "\n",
    "\n",
    "def update(_):\n",
    "    with fig1.batch_update():\n",
    "        fig1.add_trace(\n",
    "            line_scatter(x_lines=x,\n",
    "                         y_lines=np.random.multivariate_normal(\n",
    "                             mean, covariance_matrix),\n",
    "                         name_line='random function',\n",
    "                         showlegend=False))\n",
    "        fig1.add_trace(\n",
    "            dot_scatter(x_dots=x_values, y_dots=y_values, showlegend=False))\n",
    "\n",
    "\n",
    "button.on_click(update)\n",
    "widgets.VBox([fig1, button])"
   ]
  },
  {
   "cell_type": "code",
   "execution_count": 257,
   "metadata": {},
   "outputs": [
    {
     "data": {
      "application/vnd.jupyter.widget-view+json": {
       "model_id": "a0b53de70dd84077ac31b603037b3aac",
       "version_major": 2,
       "version_minor": 0
      },
      "text/plain": [
       "VBox(children=(FigureWidget({\n",
       "    'data': [{'fill': 'toself',\n",
       "              'fillcolor': 'rgba(189,195,199,0.5…"
      ]
     },
     "execution_count": 257,
     "metadata": {},
     "output_type": "execute_result"
    }
   ],
   "source": [
    "model = GPR(x_values[:1], y_values[:1])\n",
    "\n",
    "data = plot_GPR(data_x=x_values[:1], data_y=y_values[:1], x=x, model=model)\n",
    "\n",
    "fig2 = go.FigureWidget(data=data)\n",
    "fig2 = update_layout_of_graph(fig2, title='Prediction (i.e. mean) of GPR')\n",
    "\n",
    "button = widgets.Button(description='Add data point')\n",
    "\n",
    "number_of_points = 1\n",
    "\n",
    "# we update the y values of our 4 scatter plots \n",
    "def update(_):\n",
    "    with fig2.batch_update():\n",
    "        global number_of_points\n",
    "        if number_of_points < len(x_values):\n",
    "            number_of_points += 1\n",
    "            model = GPR(x_values[:number_of_points],\n",
    "                        y_values[:number_of_points])\n",
    "            mean = model.predict(x)\n",
    "            fig2.data[3].y = mean\n",
    "            for i in range(1, 4):\n",
    "                y_upper = mean + i * np.sqrt(model._memory['variance'])\n",
    "                y_lower = mean - i * np.sqrt(model._memory['variance'])\n",
    "                fig2.data[i - 1].y = np.concatenate((y_upper, y_lower[::-1]))\n",
    "\n",
    "            fig2.data[4].x = x_values[:number_of_points]\n",
    "            fig2.data[4].y = y_values[:number_of_points]\n",
    "\n",
    "\n",
    "button.on_click(update)\n",
    "widgets.VBox([fig2, button])"
   ]
  },
  {
   "cell_type": "code",
   "execution_count": 261,
   "metadata": {},
   "outputs": [
    {
     "data": {
      "application/vnd.jupyter.widget-view+json": {
       "model_id": "c7cce12a90984bf5acaa586b7538c63a",
       "version_major": 2,
       "version_minor": 0
      },
      "text/plain": [
       "interactive(children=(FloatSlider(value=1.0, description='sigma', max=3.0, min=0.01, step=0.01), FloatSlider(v…"
      ]
     },
     "metadata": {},
     "output_type": "display_data"
    },
    {
     "name": "stdout",
     "output_type": "stream",
     "text": [
      "[1.33919067e+06 1.95827741e+06 2.75127671e+06 3.71383473e+06\n",
      " 4.81658367e+06 6.00183254e+06 7.18549786e+06 8.26528969e+06\n",
      " 9.13455758e+06 9.69940688e+06 9.89534779e+06 9.69940688e+06\n",
      " 9.13455758e+06 8.26528969e+06 7.18549786e+06 6.00183254e+06\n",
      " 4.81658367e+06 3.71383473e+06 2.75127671e+06 1.95827741e+06\n",
      " 1.33919067e+06 8.79911315e+05 5.55473992e+05 3.36912401e+05\n",
      " 1.96335530e+05 1.09928383e+05 5.91358241e+04 3.05649128e+04\n",
      " 1.51785899e+04 7.24243935e+03 3.32051933e+03 1.46302139e+03\n",
      " 6.19672016e+02 2.52533271e+02 9.92558973e+01 3.78765289e+01\n",
      " 1.42974898e+01 5.60699271e+00 2.53353476e+00 1.49045369e+00\n",
      " 1.15070609e+00 1.04449309e+00 1.01262075e+00 1.00343967e+00\n",
      " 1.00090077e+00 1.00022673e+00 1.00005492e+00 1.00001287e+00\n",
      " 1.00000299e+00 1.00000076e+00 1.00000028e+00 1.00000017e+00\n",
      " 1.00000015e+00 1.00000015e+00 1.00000015e+00 1.00000015e+00\n",
      " 1.00000015e+00 1.00000015e+00 1.00000015e+00 1.00000015e+00\n",
      " 1.00000015e+00 1.00000015e+00 1.00000015e+00 1.00000015e+00\n",
      " 1.00000015e+00 1.00000015e+00 1.00000015e+00 1.00000015e+00\n",
      " 1.00000015e+00 1.00000015e+00 1.00000015e+00 1.00000015e+00\n",
      " 1.00000015e+00 1.00000015e+00 1.00000015e+00 1.00000015e+00\n",
      " 1.00000015e+00 1.00000015e+00 1.00000015e+00 1.00000015e+00]\n",
      "[ 1.33918869e+06  1.95827545e+06  2.75127479e+06  3.71383287e+06\n",
      "  4.81658192e+06  6.00183094e+06  7.18549647e+06  8.26528856e+06\n",
      "  9.13455677e+06  9.69940640e+06  9.89534751e+06  9.69940640e+06\n",
      "  9.13455677e+06  8.26528856e+06  7.18549647e+06  6.00183094e+06\n",
      "  4.81658192e+06  3.71383287e+06  2.75127479e+06  1.95827545e+06\n",
      "  1.33918869e+06  8.79909323e+05  5.55471995e+05  3.36910402e+05\n",
      "  1.96333531e+05  1.09926383e+05  5.91338241e+04  3.05629128e+04\n",
      "  1.51765899e+04  7.24043935e+03  3.31851933e+03  1.46102139e+03\n",
      "  6.17672016e+02  2.50533271e+02  9.72558970e+01  3.58765286e+01\n",
      "  1.22974895e+01  3.60699241e+00  5.33534455e-01 -5.09546613e-01\n",
      " -8.49294206e-01 -9.55507209e-01 -9.87379548e-01 -9.96560635e-01\n",
      " -9.99099528e-01 -9.99773573e-01 -9.99945383e-01 -9.99987431e-01\n",
      " -9.99997312e-01 -9.99999542e-01 -1.00000002e+00 -1.00000013e+00\n",
      " -1.00000015e+00 -1.00000015e+00 -1.00000015e+00 -1.00000015e+00\n",
      " -1.00000015e+00 -1.00000015e+00 -1.00000015e+00 -1.00000015e+00\n",
      " -1.00000015e+00 -1.00000015e+00 -1.00000015e+00 -1.00000015e+00\n",
      " -1.00000015e+00 -1.00000015e+00 -1.00000015e+00 -1.00000015e+00\n",
      " -1.00000015e+00 -1.00000015e+00 -1.00000015e+00 -1.00000015e+00\n",
      " -1.00000015e+00 -1.00000015e+00 -1.00000015e+00 -1.00000015e+00\n",
      " -1.00000015e+00 -1.00000015e+00 -1.00000015e+00 -1.00000015e+00]\n"
     ]
    }
   ],
   "source": [
    "model = GPR(x_values,\n",
    "            y_values,\n",
    "            covariance_function=SquaredExponentialKernel(length=0.5),\n",
    "            white_noise_sigma=0.1)\n",
    "\n",
    "data = plot_GPR(x_values, y_values, model=model, x=x)\n",
    "\n",
    "fig3 = go.FigureWidget(data=data)\n",
    "\n",
    "\n",
    "# we update the y values of our 4 scatter plots \n",
    "@interact(sigma=(0.01, 3, 0.01), length=(0.01, 3, 0.01), noise=(0, 3, 0.1))\n",
    "def update(sigma=1, length=0.5, noise=0.1):\n",
    "    with fig3.batch_update():\n",
    "        model = GPR(x_values,\n",
    "                    y_values,\n",
    "                    covariance_function=SquaredExponentialKernel(\n",
    "                        sigma_f=sigma, length=length),\n",
    "                    white_noise_sigma=noise)\n",
    "\n",
    "        mean = model.predict(x)\n",
    "        y_upper = mean + np.sqrt(model._memory['variance'])\n",
    "        y_lower = mean - np.sqrt(model._memory['variance'])\n",
    "\n",
    "        \n",
    "        for i in range(1, 4):\n",
    "            y_upper = mean + i * np.sqrt(model._memory['variance'])\n",
    "            y_lower = mean - i * np.sqrt(model._memory['variance'])\n",
    "            fig3.data[i-1].y = np.concatenate((y_upper, y_lower[::-1]))\n",
    "        \n",
    "        fig3.data[3].y = mean\n",
    "\n",
    "\n",
    "fig3 = update_layout_of_graph(\n",
    "    fig3, title=\"GPR with varying length, sigma and white noise\")\n",
    "fig3 "
   ]
  },
  {
   "cell_type": "code",
   "execution_count": 266,
   "metadata": {},
   "outputs": [
    {
     "name": "stdout",
     "output_type": "stream",
     "text": [
      "[-1.00000000e+00 -9.00000000e-01 -8.00000000e-01 -7.00000000e-01\n",
      " -6.00000000e-01 -5.00000000e-01 -4.00000000e-01 -3.00000000e-01\n",
      " -2.00000000e-01 -1.00000000e-01 -2.22044605e-16  1.00000000e-01\n",
      "  2.00000000e-01  3.00000000e-01  4.00000000e-01  5.00000000e-01\n",
      "  6.00000000e-01  7.00000000e-01  8.00000000e-01  9.00000000e-01\n",
      "  1.00000000e+00  1.10000000e+00  1.20000000e+00  1.30000000e+00\n",
      "  1.40000000e+00  1.50000000e+00  1.60000000e+00  1.70000000e+00\n",
      "  1.80000000e+00  1.90000000e+00  2.00000000e+00  2.10000000e+00\n",
      "  2.20000000e+00  2.30000000e+00  2.40000000e+00  2.50000000e+00\n",
      "  2.60000000e+00  2.70000000e+00  2.80000000e+00  2.90000000e+00\n",
      "  3.00000000e+00  3.10000000e+00  3.20000000e+00  3.30000000e+00\n",
      "  3.40000000e+00  3.50000000e+00  3.60000000e+00  3.70000000e+00\n",
      "  3.80000000e+00  3.90000000e+00  4.00000000e+00  4.10000000e+00\n",
      "  4.20000000e+00  4.30000000e+00  4.40000000e+00  4.50000000e+00\n",
      "  4.60000000e+00  4.70000000e+00  4.80000000e+00  4.90000000e+00\n",
      "  5.00000000e+00  5.10000000e+00  5.20000000e+00  5.30000000e+00\n",
      "  5.40000000e+00  5.50000000e+00  5.60000000e+00  5.70000000e+00\n",
      "  5.80000000e+00  5.90000000e+00  6.00000000e+00  6.10000000e+00\n",
      "  6.20000000e+00  6.30000000e+00  6.40000000e+00  6.50000000e+00\n",
      "  6.60000000e+00  6.70000000e+00  6.80000000e+00  6.90000000e+00]\n",
      "80\n",
      "80\n",
      "13620277.629128758\n"
     ]
    }
   ],
   "source": [
    "print(x)\n",
    "\n",
    "mean = model.predict(x)\n",
    "y_upper = mean + np.sqrt(model._memory['variance'])\n",
    "y_lower = mean - np.sqrt(model._memory['variance'])\n",
    "\n",
    "print(len(y_upper))\n",
    "print(len(y_lower))\n",
    "\n",
    "\n",
    "\n",
    "X_variables = x\n",
    "y_variables = y_upper\n",
    "\n",
    "together = zip(X_variables, y_variables)\n",
    "sum = 0\n",
    "\n",
    "for i in together:\n",
    "    sum += ((i[0] - i[1])**2)**0.5\n",
    "\n",
    "print(sum / (80)**0.5)"
   ]
  }
 ],
 "metadata": {
  "kernelspec": {
   "display_name": "Python 3",
   "language": "python",
   "name": "python3"
  },
  "language_info": {
   "codemirror_mode": {
    "name": "ipython",
    "version": 3
   },
   "file_extension": ".py",
   "mimetype": "text/x-python",
   "name": "python",
   "nbconvert_exporter": "python",
   "pygments_lexer": "ipython3",
   "version": "3.10.6"
  },
  "orig_nbformat": 4,
  "vscode": {
   "interpreter": {
    "hash": "aee8b7b246df8f9039afb4144a1f6fd8d2ca17a180786b69acc140d282b71a49"
   }
  }
 },
 "nbformat": 4,
 "nbformat_minor": 2
}
