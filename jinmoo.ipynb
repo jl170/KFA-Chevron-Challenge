{
 "cells": [
  {
   "cell_type": "code",
   "execution_count": 2,
   "metadata": {},
   "outputs": [],
   "source": [
    "import pandas"
   ]
  },
  {
   "cell_type": "code",
   "execution_count": 3,
   "metadata": {},
   "outputs": [],
   "source": [
    "import numpy\n",
    "import sklearn"
   ]
  },
  {
   "cell_type": "code",
   "execution_count": 4,
   "metadata": {},
   "outputs": [],
   "source": [
    "import sklearn"
   ]
  },
  {
   "cell_type": "code",
   "execution_count": 7,
   "metadata": {},
   "outputs": [
    {
     "name": "stdout",
     "output_type": "stream",
     "text": [
      "      Unnamed: 0    MSN StateCode  Year   Amount    State        MMT  \\\n",
      "0              0  BDFDB        AK  2015     21.0   Alaska  35.027804   \n",
      "1              1  BDPRP        AK  2015      4.0   Alaska  35.027804   \n",
      "2              2  BFFDB        AK  2015     21.0   Alaska  35.027804   \n",
      "3              3  BFPRP        AK  2015      4.0   Alaska  35.027804   \n",
      "4              4  CLPRB        AK  2015  17747.0   Alaska  35.027804   \n",
      "...          ...    ...       ...   ...      ...      ...        ...   \n",
      "7579        7579  WDPRB        WY  2019   4969.0  Wyoming  59.096649   \n",
      "7580        7580  WDTCB        WY  2019   4969.0  Wyoming  59.096649   \n",
      "7581        7581  WSTCB        WY  2019      0.0  Wyoming  59.096649   \n",
      "7582        7582  WWPRB        WY  2019   4969.0  Wyoming  59.096649   \n",
      "7583        7583  WYTCB        WY  2019  37070.0  Wyoming  59.096649   \n",
      "\n",
      "      TotalNumberofInvestments  TotalAmountofAssistance  \n",
      "0                         16.0                3345612.0  \n",
      "1                         16.0                3345612.0  \n",
      "2                         16.0                3345612.0  \n",
      "3                         16.0                3345612.0  \n",
      "4                         16.0                3345612.0  \n",
      "...                        ...                      ...  \n",
      "7579                      32.0                 570570.0  \n",
      "7580                      32.0                 570570.0  \n",
      "7581                      32.0                 570570.0  \n",
      "7582                      32.0                 570570.0  \n",
      "7583                      32.0                 570570.0  \n",
      "\n",
      "[7250 rows x 9 columns]\n"
     ]
    }
   ],
   "source": [
    "df = pandas.read_csv(\"/Users/yoojinmoo/Documents/KFA-Chevron-Challenge/Investment_Data_Train.csv\")\n",
    "\n",
    "df['TotalNumberofInvestments'].replace('', numpy.nan, inplace=True)\n",
    "df.dropna(subset=['TotalNumberofInvestments'], inplace=True)\n",
    "\n",
    "df.rename(columns = {'CO2 Emissions (Mmt)':'MMT'}, inplace = True)\n",
    "\n",
    "print(df)"
   ]
  },
  {
   "cell_type": "code",
   "execution_count": 19,
   "metadata": {},
   "outputs": [
    {
     "name": "stdout",
     "output_type": "stream",
     "text": [
      "                                   OLS Regression Results                                   \n",
      "============================================================================================\n",
      "Dep. Variable:     TotalAmountofAssistance   R-squared (uncentered):                   0.120\n",
      "Model:                                 OLS   Adj. R-squared (uncentered):              0.120\n",
      "Method:                      Least Squares   F-statistic:                              992.7\n",
      "Date:                     Sat, 28 Jan 2023   Prob (F-statistic):                   2.51e-204\n",
      "Time:                             13:08:02   Log-Likelihood:                     -1.3803e+05\n",
      "No. Observations:                     7250   AIC:                                  2.761e+05\n",
      "Df Residuals:                         7249   BIC:                                  2.761e+05\n",
      "Df Model:                                1                                                  \n",
      "Covariance Type:                 nonrobust                                                  \n",
      "==============================================================================\n",
      "                 coef    std err          t      P>|t|      [0.025      0.975]\n",
      "------------------------------------------------------------------------------\n",
      "Year        8233.4200    261.315     31.508      0.000    7721.167    8745.673\n",
      "==============================================================================\n",
      "Omnibus:                     6363.490   Durbin-Watson:                   0.073\n",
      "Prob(Omnibus):                  0.000   Jarque-Bera (JB):           154204.956\n",
      "Skew:                           4.345   Prob(JB):                         0.00\n",
      "Kurtosis:                      23.856   Cond. No.                         1.00\n",
      "==============================================================================\n",
      "\n",
      "Notes:\n",
      "[1] R² is computed without centering (uncentered) since the model does not contain a constant.\n",
      "[2] Standard Errors assume that the covariance matrix of the errors is correctly specified.\n"
     ]
    }
   ],
   "source": [
    "#Filter by States\n",
    "\n",
    "import statsmodels.api as sm\n",
    "import statsmodels.formula.api as smf\n",
    "\n",
    "df_AK = df[df.StateCode=='AK']\n",
    "\n",
    "ydata = df[\"TotalAmountofAssistance\"]\n",
    "xdata = df[\"Year\"]\n",
    "\n",
    "mod = sm.OLS(endog=ydata, exog=xdata)\n",
    "results = mod.fit()\n",
    "\n",
    "print(results.summary())\n"
   ]
  },
  {
   "cell_type": "code",
   "execution_count": 20,
   "metadata": {},
   "outputs": [
    {
     "data": {
      "text/html": [
       "<div>\n",
       "<style scoped>\n",
       "    .dataframe tbody tr th:only-of-type {\n",
       "        vertical-align: middle;\n",
       "    }\n",
       "\n",
       "    .dataframe tbody tr th {\n",
       "        vertical-align: top;\n",
       "    }\n",
       "\n",
       "    .dataframe thead th {\n",
       "        text-align: right;\n",
       "    }\n",
       "</style>\n",
       "<table border=\"1\" class=\"dataframe\">\n",
       "  <thead>\n",
       "    <tr style=\"text-align: right;\">\n",
       "      <th></th>\n",
       "      <th>StateCode</th>\n",
       "      <th>Year</th>\n",
       "      <th>TotalAmountofAssistance</th>\n",
       "    </tr>\n",
       "  </thead>\n",
       "  <tbody>\n",
       "    <tr>\n",
       "      <th>0</th>\n",
       "      <td>AK</td>\n",
       "      <td>2015</td>\n",
       "      <td>3345612.0</td>\n",
       "    </tr>\n",
       "    <tr>\n",
       "      <th>29</th>\n",
       "      <td>AL</td>\n",
       "      <td>2015</td>\n",
       "      <td>1864412.0</td>\n",
       "    </tr>\n",
       "    <tr>\n",
       "      <th>58</th>\n",
       "      <td>AR</td>\n",
       "      <td>2015</td>\n",
       "      <td>13453887.0</td>\n",
       "    </tr>\n",
       "    <tr>\n",
       "      <th>87</th>\n",
       "      <td>AZ</td>\n",
       "      <td>2015</td>\n",
       "      <td>1724853.0</td>\n",
       "    </tr>\n",
       "    <tr>\n",
       "      <th>116</th>\n",
       "      <td>CA</td>\n",
       "      <td>2015</td>\n",
       "      <td>30077512.0</td>\n",
       "    </tr>\n",
       "    <tr>\n",
       "      <th>...</th>\n",
       "      <td>...</td>\n",
       "      <td>...</td>\n",
       "      <td>...</td>\n",
       "    </tr>\n",
       "    <tr>\n",
       "      <th>7439</th>\n",
       "      <td>VT</td>\n",
       "      <td>2019</td>\n",
       "      <td>1121855.0</td>\n",
       "    </tr>\n",
       "    <tr>\n",
       "      <th>7468</th>\n",
       "      <td>WA</td>\n",
       "      <td>2019</td>\n",
       "      <td>18389113.0</td>\n",
       "    </tr>\n",
       "    <tr>\n",
       "      <th>7497</th>\n",
       "      <td>WI</td>\n",
       "      <td>2019</td>\n",
       "      <td>2915140.0</td>\n",
       "    </tr>\n",
       "    <tr>\n",
       "      <th>7526</th>\n",
       "      <td>WV</td>\n",
       "      <td>2019</td>\n",
       "      <td>790383.0</td>\n",
       "    </tr>\n",
       "    <tr>\n",
       "      <th>7555</th>\n",
       "      <td>WY</td>\n",
       "      <td>2019</td>\n",
       "      <td>570570.0</td>\n",
       "    </tr>\n",
       "  </tbody>\n",
       "</table>\n",
       "<p>250 rows × 3 columns</p>\n",
       "</div>"
      ],
      "text/plain": [
       "     StateCode  Year  TotalAmountofAssistance\n",
       "0           AK  2015                3345612.0\n",
       "29          AL  2015                1864412.0\n",
       "58          AR  2015               13453887.0\n",
       "87          AZ  2015                1724853.0\n",
       "116         CA  2015               30077512.0\n",
       "...        ...   ...                      ...\n",
       "7439        VT  2019                1121855.0\n",
       "7468        WA  2019               18389113.0\n",
       "7497        WI  2019                2915140.0\n",
       "7526        WV  2019                 790383.0\n",
       "7555        WY  2019                 570570.0\n",
       "\n",
       "[250 rows x 3 columns]"
      ]
     },
     "execution_count": 20,
     "metadata": {},
     "output_type": "execute_result"
    }
   ],
   "source": [
    "LR_df = df[['StateCode', 'Year', 'TotalAmountofAssistance']].drop_duplicates()\n",
    "LR_df"
   ]
  }
 ],
 "metadata": {
  "kernelspec": {
   "display_name": "Python 3",
   "language": "python",
   "name": "python3"
  },
  "language_info": {
   "codemirror_mode": {
    "name": "ipython",
    "version": 3
   },
   "file_extension": ".py",
   "mimetype": "text/x-python",
   "name": "python",
   "nbconvert_exporter": "python",
   "pygments_lexer": "ipython3",
   "version": "3.10.6"
  },
  "orig_nbformat": 4,
  "vscode": {
   "interpreter": {
    "hash": "aee8b7b246df8f9039afb4144a1f6fd8d2ca17a180786b69acc140d282b71a49"
   }
  }
 },
 "nbformat": 4,
 "nbformat_minor": 2
}
