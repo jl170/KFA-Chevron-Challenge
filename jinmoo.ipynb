{
 "cells": [
  {
   "cell_type": "code",
   "execution_count": 1,
   "metadata": {},
   "outputs": [],
   "source": [
    "import pandas"
   ]
  },
  {
   "cell_type": "code",
   "execution_count": 2,
   "metadata": {},
   "outputs": [],
   "source": [
    "import numpy\n",
    "import sklearn"
   ]
  },
  {
   "cell_type": "code",
   "execution_count": 3,
   "metadata": {},
   "outputs": [],
   "source": [
    "import sklearn"
   ]
  },
  {
   "cell_type": "code",
   "execution_count": 4,
   "metadata": {},
   "outputs": [
    {
     "name": "stdout",
     "output_type": "stream",
     "text": [
      "      Unnamed: 0    MSN StateCode  Year   Amount    State        MMT  \\\n",
      "0              0  BDFDB        AK  2015     21.0   Alaska  35.027804   \n",
      "1              1  BDPRP        AK  2015      4.0   Alaska  35.027804   \n",
      "2              2  BFFDB        AK  2015     21.0   Alaska  35.027804   \n",
      "3              3  BFPRP        AK  2015      4.0   Alaska  35.027804   \n",
      "4              4  CLPRB        AK  2015  17747.0   Alaska  35.027804   \n",
      "...          ...    ...       ...   ...      ...      ...        ...   \n",
      "7579        7579  WDPRB        WY  2019   4969.0  Wyoming  59.096649   \n",
      "7580        7580  WDTCB        WY  2019   4969.0  Wyoming  59.096649   \n",
      "7581        7581  WSTCB        WY  2019      0.0  Wyoming  59.096649   \n",
      "7582        7582  WWPRB        WY  2019   4969.0  Wyoming  59.096649   \n",
      "7583        7583  WYTCB        WY  2019  37070.0  Wyoming  59.096649   \n",
      "\n",
      "      TotalNumberofInvestments  TotalAmountofAssistance  \n",
      "0                         16.0                3345612.0  \n",
      "1                         16.0                3345612.0  \n",
      "2                         16.0                3345612.0  \n",
      "3                         16.0                3345612.0  \n",
      "4                         16.0                3345612.0  \n",
      "...                        ...                      ...  \n",
      "7579                      32.0                 570570.0  \n",
      "7580                      32.0                 570570.0  \n",
      "7581                      32.0                 570570.0  \n",
      "7582                      32.0                 570570.0  \n",
      "7583                      32.0                 570570.0  \n",
      "\n",
      "[7250 rows x 9 columns]\n"
     ]
    }
   ],
   "source": [
    "#Dataframe Initialization using CSV File\n",
    "df = pandas.read_csv(\"/Users/yoojinmoo/Documents/KFA-Chevron-Challenge/Investment_Data_Train.csv\")\n",
    "\n",
    "#Remove Rows with any Empty Cells\n",
    "df['TotalNumberofInvestments'].replace('', numpy.nan, inplace=True)\n",
    "df.dropna(subset=['TotalNumberofInvestments'], inplace=True)\n",
    "\n",
    "#Rename Amount to \"MMT\"\n",
    "df.rename(columns = {'CO2 Emissions (Mmt)':'MMT'}, inplace = True)\n",
    "print(df)"
   ]
  },
  {
   "cell_type": "code",
   "execution_count": 5,
   "metadata": {},
   "outputs": [
    {
     "name": "stdout",
     "output_type": "stream",
     "text": [
      "['AK' 'AL' 'AR' 'AZ' 'CA' 'CO' 'CT' 'DE' 'FL' 'GA' 'HI' 'IA' 'ID' 'IL'\n",
      " 'IN' 'KS' 'KY' 'LA' 'MA' 'MD' 'ME' 'MI' 'MN' 'MO' 'MS' 'MT' 'NC' 'ND'\n",
      " 'NE' 'NH' 'NJ' 'NM' 'NV' 'NY' 'OH' 'OK' 'OR' 'PA' 'RI' 'SC' 'SD' 'TN'\n",
      " 'TX' 'UT' 'VA' 'VT' 'WA' 'WI' 'WV' 'WY']\n",
      "['BDFDB' 'BDPRP' 'BFFDB' 'BFPRP' 'CLPRB' 'CLPRK' 'CLPRP' 'COPRK' 'EMFDB'\n",
      " 'ENPRP' 'GETCB' 'HYTCB' 'NCPRB' 'NGMPB' 'NGMPK' 'NGMPP' 'NUETB' 'PAPRB'\n",
      " 'PAPRP' 'REPRB' 'SOTCB' 'TEPRB' 'TETCB' 'WDEXB' 'WDPRB' 'WDTCB' 'WSTCB'\n",
      " 'WWPRB' 'WYTCB']\n",
      "[2015 2016 2017 2018 2019]\n"
     ]
    }
   ],
   "source": [
    "LR_df = df[['StateCode', 'Year', 'TotalAmountofAssistance']].drop_duplicates()\n",
    "\n",
    "#Creating Three Lists of all the States, Variables and Years\n",
    "unique_states = (df['StateCode'].unique())\n",
    "unique_variables = (df['MSN'].unique())\n",
    "unique_years = (df['Year'].unique())\n",
    "\n",
    "print(unique_states)\n",
    "print(unique_variables)\n",
    "print(unique_years)"
   ]
  },
  {
   "cell_type": "code",
   "execution_count": 6,
   "metadata": {},
   "outputs": [],
   "source": [
    "#Creating Two New Columns (Percentage Change in Variable & Amount of Funding Over Years)\n",
    "\n",
    "#Variable 1 in 2015\n",
    "state_dict = {}\n",
    "\n",
    "\n"
   ]
  },
  {
   "cell_type": "code",
   "execution_count": 7,
   "metadata": {},
   "outputs": [
    {
     "name": "stdout",
     "output_type": "stream",
     "text": [
      "                                   OLS Regression Results                                   \n",
      "============================================================================================\n",
      "Dep. Variable:     TotalAmountofAssistance   R-squared (uncentered):                   0.120\n",
      "Model:                                 OLS   Adj. R-squared (uncentered):              0.120\n",
      "Method:                      Least Squares   F-statistic:                              992.7\n",
      "Date:                     Sat, 28 Jan 2023   Prob (F-statistic):                   2.51e-204\n",
      "Time:                             15:29:21   Log-Likelihood:                     -1.3803e+05\n",
      "No. Observations:                     7250   AIC:                                  2.761e+05\n",
      "Df Residuals:                         7249   BIC:                                  2.761e+05\n",
      "Df Model:                                1                                                  \n",
      "Covariance Type:                 nonrobust                                                  \n",
      "==============================================================================\n",
      "                 coef    std err          t      P>|t|      [0.025      0.975]\n",
      "------------------------------------------------------------------------------\n",
      "Year        8233.4200    261.315     31.508      0.000    7721.167    8745.673\n",
      "==============================================================================\n",
      "Omnibus:                     6363.490   Durbin-Watson:                   0.073\n",
      "Prob(Omnibus):                  0.000   Jarque-Bera (JB):           154204.956\n",
      "Skew:                           4.345   Prob(JB):                         0.00\n",
      "Kurtosis:                      23.856   Cond. No.                         1.00\n",
      "==============================================================================\n",
      "\n",
      "Notes:\n",
      "[1] R² is computed without centering (uncentered) since the model does not contain a constant.\n",
      "[2] Standard Errors assume that the covariance matrix of the errors is correctly specified.\n"
     ]
    }
   ],
   "source": [
    "#Filter by States\n",
    "import statsmodels.api as sm\n",
    "import statsmodels.formula.api as smf\n",
    "\n",
    "df_AK = df[df.StateCode=='AK']\n",
    "\n",
    "ydata = df[\"TotalAmountofAssistance\"]\n",
    "xdata = df[\"Year\"]\n",
    "\n",
    "mod = sm.OLS(endog=ydata, exog=xdata)\n",
    "results = mod.fit()\n",
    "\n",
    "print(results.summary())"
   ]
  }
 ],
 "metadata": {
  "kernelspec": {
   "display_name": "base",
   "language": "python",
   "name": "python3"
  },
  "language_info": {
   "codemirror_mode": {
    "name": "ipython",
    "version": 3
   },
   "file_extension": ".py",
   "mimetype": "text/x-python",
   "name": "python",
   "nbconvert_exporter": "python",
   "pygments_lexer": "ipython3",
   "version": "3.9.13"
  },
  "orig_nbformat": 4,
  "vscode": {
   "interpreter": {
    "hash": "f48e2eb06c7a8756c9125033c320847f61dab91709678250ba4f3a645026fd02"
   }
  }
 },
 "nbformat": 4,
 "nbformat_minor": 2
}
